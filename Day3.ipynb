{
 "cells": [
  {
   "cell_type": "markdown",
   "metadata": {},
   "source": [
    "# Special (Magic/Dunder) Methods\n",
    "\n",
    "How to implement **operator overload**"
   ]
  },
  {
   "cell_type": "code",
   "execution_count": 1,
   "metadata": {},
   "outputs": [
    {
     "name": "stdout",
     "output_type": "stream",
     "text": [
      "3\n",
      "hello world\n"
     ]
    }
   ],
   "source": [
    "print(1 + 2)\n",
    "print(\"hello\" + \" world\")"
   ]
  },
  {
   "cell_type": "code",
   "execution_count": 2,
   "metadata": {
    "collapsed": true
   },
   "outputs": [],
   "source": [
    "class Employee:\n",
    "    num_of_emps = 0\n",
    "    raise_amount = 1.04\n",
    "    \n",
    "    def __init__(self, first, last, pay):\n",
    "        self._first = first\n",
    "        self._last = last\n",
    "        self._pay = pay\n",
    "        self._email = first + '.' + last + \"@weber.edu\"\n",
    "        Employee.num_of_emps += 1\n",
    "        \n",
    "    def fullname(self):\n",
    "        return \"{} {}\".format(self._first, self._last)\n",
    "    \n",
    "    def apply_raise(self):\n",
    "        self._pay = int(self._pay * self.raise_amount)"
   ]
  },
  {
   "cell_type": "code",
   "execution_count": 3,
   "metadata": {},
   "outputs": [
    {
     "name": "stdout",
     "output_type": "stream",
     "text": [
      "<__main__.Employee object at 0x000001F1529B3278>\n"
     ]
    }
   ],
   "source": [
    "emp1 = Employee(\"Sean\", \"Penn\", 30000)\n",
    "print(emp1)"
   ]
  },
  {
   "cell_type": "markdown",
   "metadata": {},
   "source": [
    "By defining your own special methods (**dunder methods**), we will be able to shape the behavior to our needs. \n",
    "\n",
    "Two of the most common methods are: \n",
    "* dunder-repr\n",
    "* dunder-str"
   ]
  },
  {
   "cell_type": "code",
   "execution_count": 4,
   "metadata": {},
   "outputs": [
    {
     "data": {
      "text/plain": [
       "\"<class 'int'>\""
      ]
     },
     "execution_count": 4,
     "metadata": {},
     "output_type": "execute_result"
    }
   ],
   "source": [
    "repr(int)"
   ]
  },
  {
   "cell_type": "code",
   "execution_count": 5,
   "metadata": {},
   "outputs": [
    {
     "data": {
      "text/plain": [
       "\"<class 'int'>\""
      ]
     },
     "execution_count": 5,
     "metadata": {},
     "output_type": "execute_result"
    }
   ],
   "source": [
    "str(int)"
   ]
  },
  {
   "cell_type": "markdown",
   "metadata": {},
   "source": [
    "### What is the difference between str() and repr()?"
   ]
  },
  {
   "cell_type": "code",
   "execution_count": 7,
   "metadata": {},
   "outputs": [
    {
     "name": "stdout",
     "output_type": "stream",
     "text": [
      "[1, 2, 3, 4]\n",
      "[1, 2, 3, 4]\n",
      "Sample String   \n",
      "'Sample String   '\n"
     ]
    }
   ],
   "source": [
    "a = [1, 2, 3, 4]\n",
    "b = \"Sample String   \"\n",
    "print(str(a))\n",
    "print(repr(a))\n",
    "\n",
    "print(str(b))\n",
    "print(repr(b))"
   ]
  },
  {
   "cell_type": "markdown",
   "metadata": {},
   "source": [
    "* The goal of **dunder-repr** is to be unambiguous (more for  developers)\n",
    "* The goal of the **dunder-str** is to be readable(more for regular users)"
   ]
  },
  {
   "cell_type": "code",
   "execution_count": 10,
   "metadata": {},
   "outputs": [
    {
     "name": "stdout",
     "output_type": "stream",
     "text": [
      "2017-06-11 04:35:48.152345\n",
      "2017-06-11 04:35:48.152345\n"
     ]
    }
   ],
   "source": [
    "import datetime\n",
    "a = datetime.datetime(2017, 6, 11, 4, 35, 48, 152345)\n",
    "b = \"2017-06-11 04:35:48.152345\"\n",
    "\n",
    "print(a)\n",
    "print(b)"
   ]
  },
  {
   "cell_type": "code",
   "execution_count": 11,
   "metadata": {},
   "outputs": [
    {
     "name": "stdout",
     "output_type": "stream",
     "text": [
      "datetime.datetime(2017, 6, 11, 4, 35, 48, 152345)\n",
      "'2017-06-11 04:35:48.152345'\n"
     ]
    }
   ],
   "source": [
    "print(repr(a))\n",
    "print(repr(b))"
   ]
  },
  {
   "cell_type": "code",
   "execution_count": 12,
   "metadata": {
    "collapsed": true
   },
   "outputs": [],
   "source": [
    "class Employee:\n",
    "    num_of_emps = 0\n",
    "    raise_amount = 1.04\n",
    "    \n",
    "    def __init__(self, first, last, pay):\n",
    "        self._first = first\n",
    "        self._last = last\n",
    "        self._pay = pay\n",
    "        self._email = first + '.' + last + \"@weber.edu\"\n",
    "        Employee.num_of_emps += 1\n",
    "        \n",
    "    def fullname(self):\n",
    "        return \"{} {}\".format(self._first, self._last)\n",
    "    \n",
    "    def apply_raise(self):\n",
    "        self._pay = int(self._pay * self.raise_amount)\n",
    "        \n",
    "    # Something you can copy/paste back into Python\n",
    "    # to recreate the object\n",
    "    def __repr__(self):\n",
    "        return \"Employee('{}', '{}', '{}')\".format(\n",
    "        self._first, self._last, self._pay)"
   ]
  },
  {
   "cell_type": "code",
   "execution_count": 13,
   "metadata": {},
   "outputs": [
    {
     "name": "stdout",
     "output_type": "stream",
     "text": [
      "Employee('Sean', 'Penn', '30000')\n"
     ]
    }
   ],
   "source": [
    "emp1 = Employee(\"Sean\", \"Penn\", 30000)\n",
    "print(emp1)"
   ]
  },
  {
   "cell_type": "markdown",
   "metadata": {},
   "source": [
    "Now is more readable, and you can recreate the objet"
   ]
  },
  {
   "cell_type": "code",
   "execution_count": 14,
   "metadata": {
    "collapsed": true
   },
   "outputs": [],
   "source": [
    "class Employee:\n",
    "    num_of_emps = 0\n",
    "    raise_amount = 1.04\n",
    "    \n",
    "    def __init__(self, first, last, pay):\n",
    "        self._first = first\n",
    "        self._last = last\n",
    "        self._pay = pay\n",
    "        self._email = first + '.' + last + \"@weber.edu\"\n",
    "        Employee.num_of_emps += 1\n",
    "        \n",
    "    def fullname(self):\n",
    "        return \"{} {}\".format(self._first, self._last)\n",
    "    \n",
    "    def apply_raise(self):\n",
    "        self._pay = int(self._pay * self.raise_amount)\n",
    "        \n",
    "    # Something you can copy/paste back into Python\n",
    "    # to recreate the object\n",
    "    def __repr__(self):\n",
    "        return \"Employee('{}', '{}', '{}')\".format(\n",
    "        self._first, self._last, self._pay)\n",
    "    \n",
    "    def __str__(self):\n",
    "        return \"{} - {}\".format(self.fullname(), self._email)"
   ]
  },
  {
   "cell_type": "code",
   "execution_count": 15,
   "metadata": {},
   "outputs": [
    {
     "name": "stdout",
     "output_type": "stream",
     "text": [
      "Sean Penn - Sean.Penn@weber.edu\n"
     ]
    }
   ],
   "source": [
    "emp1 = Employee(\"Sean\", \"Penn\", 30000)\n",
    "print(emp1)"
   ]
  },
  {
   "cell_type": "code",
   "execution_count": 16,
   "metadata": {},
   "outputs": [
    {
     "name": "stdout",
     "output_type": "stream",
     "text": [
      "Employee('Sean', 'Penn', '30000')\n",
      "Sean Penn - Sean.Penn@weber.edu\n"
     ]
    }
   ],
   "source": [
    "# You can access them individually\n",
    "print(repr(emp1))\n",
    "print(str(emp1))"
   ]
  },
  {
   "cell_type": "markdown",
   "metadata": {},
   "source": [
    "### More common magic methods"
   ]
  },
  {
   "cell_type": "code",
   "execution_count": 17,
   "metadata": {},
   "outputs": [
    {
     "name": "stdout",
     "output_type": "stream",
     "text": [
      "3\n"
     ]
    }
   ],
   "source": [
    "# Using __add__\n",
    "print(1 + 2)"
   ]
  },
  {
   "cell_type": "code",
   "execution_count": 18,
   "metadata": {},
   "outputs": [
    {
     "name": "stdout",
     "output_type": "stream",
     "text": [
      "3\n",
      "ab\n"
     ]
    }
   ],
   "source": [
    "print(int.__add__(1, 2))\n",
    "print(str.__add__(\"a\", \"b\"))"
   ]
  },
  {
   "cell_type": "code",
   "execution_count": 19,
   "metadata": {},
   "outputs": [
    {
     "name": "stdout",
     "output_type": "stream",
     "text": [
      "Juan Perez - Juan.Perez@weber.edu\n",
      "Sean Penn - Sean.Penn@weber.edu\n",
      "80000\n"
     ]
    }
   ],
   "source": [
    "class Employee:\n",
    "    num_of_emps = 0\n",
    "    raise_amount = 1.04\n",
    "    \n",
    "    def __init__(self, first, last, pay):\n",
    "        self._first = first\n",
    "        self._last = last\n",
    "        self._pay = pay\n",
    "        self._email = first + '.' + last + \"@weber.edu\"\n",
    "        Employee.num_of_emps += 1\n",
    "        \n",
    "    def fullname(self):\n",
    "        return \"{} {}\".format(self._first, self._last)\n",
    "    \n",
    "    def apply_raise(self):\n",
    "        self._pay = int(self._pay * self.raise_amount)\n",
    "        \n",
    "    # Something you can copy/paste back into Python\n",
    "    # to recreate the object\n",
    "    def __repr__(self):\n",
    "        return \"Employee('{}', '{}', '{}')\".format(\n",
    "        self._first, self._last, self._pay)\n",
    "    \n",
    "    def __str__(self):\n",
    "        return \"{} - {}\".format(self.fullname(), self._email)\n",
    "    \n",
    "    # Return combine salaries\n",
    "    def __add__(self, other):\n",
    "        return self._pay + other._pay\n",
    "    \n",
    "# test\n",
    "emp1 = Employee(\"Juan\", \"Perez\", 50000)\n",
    "emp2 = Employee(\"Sean\", \"Penn\", 30000)\n",
    "print(emp1)\n",
    "print(emp2)\n",
    "print(emp1 + emp2)"
   ]
  },
  {
   "cell_type": "code",
   "execution_count": 22,
   "metadata": {},
   "outputs": [
    {
     "name": "stdout",
     "output_type": "stream",
     "text": [
      "80000\n"
     ]
    }
   ],
   "source": [
    "print(emp1 + emp2)"
   ]
  },
  {
   "cell_type": "markdown",
   "metadata": {},
   "source": [
    "### The len() built-in"
   ]
  },
  {
   "cell_type": "code",
   "execution_count": 23,
   "metadata": {},
   "outputs": [
    {
     "name": "stdout",
     "output_type": "stream",
     "text": [
      "11\n"
     ]
    }
   ],
   "source": [
    "print(len(\"Weber State\"))"
   ]
  },
  {
   "cell_type": "code",
   "execution_count": 24,
   "metadata": {},
   "outputs": [
    {
     "name": "stdout",
     "output_type": "stream",
     "text": [
      "11\n"
     ]
    }
   ],
   "source": [
    "print(\"Weber State\".__len__())"
   ]
  },
  {
   "cell_type": "code",
   "execution_count": 26,
   "metadata": {},
   "outputs": [
    {
     "name": "stdout",
     "output_type": "stream",
     "text": [
      "10\n",
      "9\n"
     ]
    }
   ],
   "source": [
    "class Employee:\n",
    "    num_of_emps = 0\n",
    "    raise_amount = 1.04\n",
    "    \n",
    "    def __init__(self, first, last, pay):\n",
    "        self._first = first\n",
    "        self._last = last\n",
    "        self._pay = pay\n",
    "        self._email = first + '.' + last + \"@weber.edu\"\n",
    "        Employee.num_of_emps += 1\n",
    "        \n",
    "    def fullname(self):\n",
    "        return \"{} {}\".format(self._first, self._last)\n",
    "    \n",
    "    def apply_raise(self):\n",
    "        self._pay = int(self._pay * self.raise_amount)\n",
    "        \n",
    "    # Something you can copy/paste back into Python\n",
    "    # to recreate the object\n",
    "    def __repr__(self):\n",
    "        return \"Employee('{}', '{}', '{}')\".format(\n",
    "        self._first, self._last, self._pay)\n",
    "    \n",
    "    def __str__(self):\n",
    "        return \"{} - {}\".format(self.fullname(), self._email)\n",
    "    \n",
    "    # Return combine salaries\n",
    "    def __add__(self, other):\n",
    "        return self._pay + other._pay\n",
    "    \n",
    "    # Return the length of fullname\n",
    "    def __len__(self):\n",
    "        return len(self.fullname())\n",
    "    \n",
    "# test\n",
    "emp1 = Employee(\"Juan\", \"Perez\", 50000)\n",
    "emp2 = Employee(\"Sean\", \"Penn\", 30000)\n",
    "print(len(emp1))\n",
    "print(len(emp2))\n",
    "#print(emp1 + emp2)"
   ]
  },
  {
   "cell_type": "markdown",
   "metadata": {},
   "source": [
    "Note: the **str()** will call your **dunder-repr** method IF the **dunder-str** is NOT defined, but the reverse is NOT true. "
   ]
  },
  {
   "cell_type": "markdown",
   "metadata": {},
   "source": [
    "### The special dunder-format format\n",
    "Invoke by str.format()\n",
    "\n",
    "Note: see twoPoint.py"
   ]
  },
  {
   "cell_type": "markdown",
   "metadata": {},
   "source": [
    "### What is this format?\n",
    "Anything you pass to dunder-format method<cr>\n",
    "Replacement fields:\n",
    "* {field_name:format_spec}\n",
    "* Optional **format specification** after the colon"
   ]
  },
  {
   "cell_type": "code",
   "execution_count": 27,
   "metadata": {
    "collapsed": true
   },
   "outputs": [],
   "source": [
    "class Point2D:\n",
    "    def __init__(self, x, y):\n",
    "        self._x = x\n",
    "        self._y = y\n",
    "\n",
    "    def __str__(self):\n",
    "        return '({}, {})'.format(self._x, self._y)\n",
    "\n",
    "    def __repr__(self):\n",
    "        return \"Point2D(x={}, y={})\".format(self._x, self._y)\n",
    "\n",
    "    def __format__(self, format_spec):\n",
    "        if format_spec == 'r':\n",
    "            return \"{}, {}\".format(self._x, self._y)\n",
    "        else:\n",
    "            return \"{}, {}\".format(self._x, self._y)"
   ]
  },
  {
   "cell_type": "code",
   "execution_count": 28,
   "metadata": {},
   "outputs": [
    {
     "data": {
      "text/plain": [
       "'1, 2'"
      ]
     },
     "execution_count": 28,
     "metadata": {},
     "output_type": "execute_result"
    }
   ],
   "source": [
    "\"{}\".format(Point2D(x=1, y=2))"
   ]
  },
  {
   "cell_type": "code",
   "execution_count": 29,
   "metadata": {},
   "outputs": [
    {
     "data": {
      "text/plain": [
       "'0, 3'"
      ]
     },
     "execution_count": 29,
     "metadata": {},
     "output_type": "execute_result"
    }
   ],
   "source": [
    "\"{:r}\".format(Point2D(x=0, y=3))"
   ]
  },
  {
   "cell_type": "markdown",
   "metadata": {},
   "source": [
    "## The ascii(), ord() and chr() Built-in functions"
   ]
  },
  {
   "cell_type": "code",
   "execution_count": 30,
   "metadata": {},
   "outputs": [
    {
     "name": "stdout",
     "output_type": "stream",
     "text": [
      "Help on built-in function ascii in module builtins:\n",
      "\n",
      "ascii(obj, /)\n",
      "    Return an ASCII-only representation of an object.\n",
      "    \n",
      "    As repr(), return a string containing a printable representation of an\n",
      "    object, but escape the non-ASCII characters in the string returned by\n",
      "    repr() using \\\\x, \\\\u or \\\\U escapes. This generates a string similar\n",
      "    to that returned by repr() in Python 2.\n",
      "\n"
     ]
    }
   ],
   "source": [
    "# ASCII\n",
    "help(ascii)"
   ]
  },
  {
   "cell_type": "code",
   "execution_count": 31,
   "metadata": {
    "collapsed": true
   },
   "outputs": [],
   "source": [
    "# ñ -> Alt+164\n",
    "x = \"moño\""
   ]
  },
  {
   "cell_type": "code",
   "execution_count": 32,
   "metadata": {},
   "outputs": [
    {
     "data": {
      "text/plain": [
       "str"
      ]
     },
     "execution_count": 32,
     "metadata": {},
     "output_type": "execute_result"
    }
   ],
   "source": [
    "type(x)"
   ]
  },
  {
   "cell_type": "code",
   "execution_count": 33,
   "metadata": {},
   "outputs": [
    {
     "name": "stdout",
     "output_type": "stream",
     "text": [
      "'mo\\xf1o'\n"
     ]
    }
   ],
   "source": [
    "y = ascii(x)\n",
    "print(y)"
   ]
  },
  {
   "cell_type": "markdown",
   "metadata": {},
   "source": [
    "### ord()\n",
    "The built-in function to covert single characters to its **integer** Unicode codepoint.  "
   ]
  },
  {
   "cell_type": "code",
   "execution_count": 34,
   "metadata": {},
   "outputs": [
    {
     "name": "stdout",
     "output_type": "stream",
     "text": [
      "¾\n",
      "190\n"
     ]
    }
   ],
   "source": [
    "# ¾ -> Alt+0190\n",
    "x = \"¾\"\n",
    "print(x)\n",
    "print(ord(x))"
   ]
  },
  {
   "cell_type": "markdown",
   "metadata": {},
   "source": [
    "### chr()\n",
    "the built-in function to convert an integer Unicode codepoint to a single character string "
   ]
  },
  {
   "cell_type": "code",
   "execution_count": 35,
   "metadata": {},
   "outputs": [
    {
     "name": "stdout",
     "output_type": "stream",
     "text": [
      "¾\n"
     ]
    }
   ],
   "source": [
    "x = chr(190)\n",
    "print(x)"
   ]
  },
  {
   "cell_type": "markdown",
   "metadata": {},
   "source": [
    "# Numeric and Scalar Types\n",
    "\n",
    "A standard **integer** in Python have a fixed size, storing only 16, 32, or 64 bits of precision blocks. "
   ]
  },
  {
   "cell_type": "code",
   "execution_count": 39,
   "metadata": {},
   "outputs": [
    {
     "data": {
      "text/plain": [
       "2568"
      ]
     },
     "execution_count": 39,
     "metadata": {},
     "output_type": "execute_result"
    }
   ],
   "source": [
    "from math import factorial\n",
    "len(str(factorial(1000)))"
   ]
  },
  {
   "cell_type": "markdown",
   "metadata": {},
   "source": [
    "### Floating Point\n",
    "\n",
    "An abbreviation of \"floating point number\" (**float()**). It follows IEEE-754 standard (double-64 bits).\n",
    "* 1 bit for sign\n",
    "* 11 bits for exponent\n",
    "* 52 bits for mantissa, or significand, or fraction\n"
   ]
  },
  {
   "cell_type": "code",
   "execution_count": 42,
   "metadata": {},
   "outputs": [
    {
     "data": {
      "text/plain": [
       "sys.float_info(max=1.7976931348623157e+308, max_exp=1024, max_10_exp=308, min=2.2250738585072014e-308, min_exp=-1021, min_10_exp=-307, dig=15, mant_dig=53, epsilon=2.220446049250313e-16, radix=2, rounds=1)"
      ]
     },
     "execution_count": 42,
     "metadata": {},
     "output_type": "execute_result"
    }
   ],
   "source": [
    "import sys\n",
    "sys.float_info"
   ]
  },
  {
   "cell_type": "code",
   "execution_count": 45,
   "metadata": {},
   "outputs": [
    {
     "data": {
      "text/plain": [
       "-1.7976931348623157e+308"
      ]
     },
     "execution_count": 45,
     "metadata": {},
     "output_type": "execute_result"
    }
   ],
   "source": [
    "# Most negative float\n",
    "mnf = -sys.float_info.max\n",
    "mnf"
   ]
  },
  {
   "cell_type": "code",
   "execution_count": 46,
   "metadata": {},
   "outputs": [
    {
     "data": {
      "text/plain": [
       "-2.2250738585072014e-308"
      ]
     },
     "execution_count": 46,
     "metadata": {},
     "output_type": "execute_result"
    }
   ],
   "source": [
    "# Greater Negative float\n",
    "gnf = -sys.float_info.min\n",
    "gnf"
   ]
  },
  {
   "cell_type": "code",
   "execution_count": 47,
   "metadata": {},
   "outputs": [
    {
     "data": {
      "text/plain": [
       "10.0"
      ]
     },
     "execution_count": 47,
     "metadata": {},
     "output_type": "execute_result"
    }
   ],
   "source": [
    "float(10)"
   ]
  },
  {
   "cell_type": "code",
   "execution_count": 48,
   "metadata": {},
   "outputs": [
    {
     "data": {
      "text/plain": [
       "9007199254740992"
      ]
     },
     "execution_count": 48,
     "metadata": {},
     "output_type": "execute_result"
    }
   ],
   "source": [
    "2**53"
   ]
  },
  {
   "cell_type": "code",
   "execution_count": 49,
   "metadata": {},
   "outputs": [
    {
     "data": {
      "text/plain": [
       "9007199254740992.0"
      ]
     },
     "execution_count": 49,
     "metadata": {},
     "output_type": "execute_result"
    }
   ],
   "source": [
    "float(2**53)"
   ]
  },
  {
   "cell_type": "code",
   "execution_count": 50,
   "metadata": {},
   "outputs": [
    {
     "data": {
      "text/plain": [
       "9007199254740992.0"
      ]
     },
     "execution_count": 50,
     "metadata": {},
     "output_type": "execute_result"
    }
   ],
   "source": [
    "float(2**53 + 1)"
   ]
  },
  {
   "cell_type": "code",
   "execution_count": 51,
   "metadata": {},
   "outputs": [
    {
     "data": {
      "text/plain": [
       "9007199254740994.0"
      ]
     },
     "execution_count": 51,
     "metadata": {},
     "output_type": "execute_result"
    }
   ],
   "source": [
    "float(2**53 + 2)"
   ]
  },
  {
   "cell_type": "code",
   "execution_count": 52,
   "metadata": {},
   "outputs": [
    {
     "data": {
      "text/plain": [
       "9007199254740996.0"
      ]
     },
     "execution_count": 52,
     "metadata": {},
     "output_type": "execute_result"
    }
   ],
   "source": [
    "float(2**53 + 3)"
   ]
  },
  {
   "cell_type": "code",
   "execution_count": 53,
   "metadata": {},
   "outputs": [
    {
     "data": {
      "text/plain": [
       "9007199254740996.0"
      ]
     },
     "execution_count": 53,
     "metadata": {},
     "output_type": "execute_result"
    }
   ],
   "source": [
    "float(2**53 + 4)"
   ]
  },
  {
   "cell_type": "markdown",
   "metadata": {},
   "source": [
    "### The decimal Module\n",
    "Contains a class **Decimal**"
   ]
  },
  {
   "cell_type": "code",
   "execution_count": 54,
   "metadata": {},
   "outputs": [
    {
     "data": {
      "text/plain": [
       "['BasicContext',\n",
       " 'Clamped',\n",
       " 'Context',\n",
       " 'ConversionSyntax',\n",
       " 'Decimal',\n",
       " 'DecimalException',\n",
       " 'DecimalTuple',\n",
       " 'DefaultContext',\n",
       " 'DivisionByZero',\n",
       " 'DivisionImpossible',\n",
       " 'DivisionUndefined',\n",
       " 'ExtendedContext',\n",
       " 'FloatOperation',\n",
       " 'HAVE_THREADS',\n",
       " 'Inexact',\n",
       " 'InvalidContext',\n",
       " 'InvalidOperation',\n",
       " 'MAX_EMAX',\n",
       " 'MAX_PREC',\n",
       " 'MIN_EMIN',\n",
       " 'MIN_ETINY',\n",
       " 'Overflow',\n",
       " 'ROUND_05UP',\n",
       " 'ROUND_CEILING',\n",
       " 'ROUND_DOWN',\n",
       " 'ROUND_FLOOR',\n",
       " 'ROUND_HALF_DOWN',\n",
       " 'ROUND_HALF_EVEN',\n",
       " 'ROUND_HALF_UP',\n",
       " 'ROUND_UP',\n",
       " 'Rounded',\n",
       " 'Subnormal',\n",
       " 'Underflow',\n",
       " '__builtins__',\n",
       " '__cached__',\n",
       " '__doc__',\n",
       " '__file__',\n",
       " '__libmpdec_version__',\n",
       " '__loader__',\n",
       " '__name__',\n",
       " '__package__',\n",
       " '__spec__',\n",
       " '__version__',\n",
       " 'getcontext',\n",
       " 'localcontext',\n",
       " 'setcontext']"
      ]
     },
     "execution_count": 54,
     "metadata": {},
     "output_type": "execute_result"
    }
   ],
   "source": [
    "import decimal\n",
    "dir(decimal)"
   ]
  },
  {
   "cell_type": "code",
   "execution_count": 55,
   "metadata": {},
   "outputs": [
    {
     "data": {
      "text/plain": [
       "Context(prec=28, rounding=ROUND_HALF_EVEN, Emin=-999999, Emax=999999, capitals=1, clamp=0, flags=[], traps=[InvalidOperation, DivisionByZero, Overflow])"
      ]
     },
     "execution_count": 55,
     "metadata": {},
     "output_type": "execute_result"
    }
   ],
   "source": [
    "decimal.getcontext()"
   ]
  },
  {
   "cell_type": "code",
   "execution_count": 61,
   "metadata": {},
   "outputs": [
    {
     "data": {
      "text/plain": [
       "Decimal('5')"
      ]
     },
     "execution_count": 61,
     "metadata": {},
     "output_type": "execute_result"
    }
   ],
   "source": [
    "# create a Decimal instance\n",
    "decimal.Decimal(5)"
   ]
  },
  {
   "cell_type": "code",
   "execution_count": 63,
   "metadata": {},
   "outputs": [
    {
     "data": {
      "text/plain": [
       "Decimal('7')"
      ]
     },
     "execution_count": 63,
     "metadata": {},
     "output_type": "execute_result"
    }
   ],
   "source": [
    "from decimal import Decimal\n",
    "Decimal(7)"
   ]
  },
  {
   "cell_type": "code",
   "execution_count": 64,
   "metadata": {},
   "outputs": [
    {
     "data": {
      "text/plain": [
       "Decimal('0.8000000000000000444089209850062616169452667236328125')"
      ]
     },
     "execution_count": 64,
     "metadata": {},
     "output_type": "execute_result"
    }
   ],
   "source": [
    "# Create decimals from floats\n",
    "Decimal(0.8)"
   ]
  },
  {
   "cell_type": "code",
   "execution_count": 65,
   "metadata": {},
   "outputs": [
    {
     "data": {
      "text/plain": [
       "Decimal('0.8')"
      ]
     },
     "execution_count": 65,
     "metadata": {},
     "output_type": "execute_result"
    }
   ],
   "source": [
    "# Use quotes when creatin Decimal instances\n",
    "Decimal('0.8')"
   ]
  },
  {
   "cell_type": "markdown",
   "metadata": {},
   "source": [
    "Construct Decimals from fractional values"
   ]
  },
  {
   "cell_type": "code",
   "execution_count": 71,
   "metadata": {},
   "outputs": [
    {
     "data": {
      "text/plain": [
       "Decimal('0.1')"
      ]
     },
     "execution_count": 71,
     "metadata": {},
     "output_type": "execute_result"
    }
   ],
   "source": [
    "Decimal('0.8') - Decimal('0.7')"
   ]
  },
  {
   "cell_type": "code",
   "execution_count": 69,
   "metadata": {},
   "outputs": [
    {
     "data": {
      "text/plain": [
       "Decimal('0.1000000000000000888178419700')"
      ]
     },
     "execution_count": 69,
     "metadata": {},
     "output_type": "execute_result"
    }
   ],
   "source": [
    "Decimal(0.8) - Decimal(0.7)"
   ]
  },
  {
   "cell_type": "markdown",
   "metadata": {},
   "source": [
    "Special values of Decimal"
   ]
  },
  {
   "cell_type": "code",
   "execution_count": 72,
   "metadata": {},
   "outputs": [
    {
     "data": {
      "text/plain": [
       "Decimal('Infinity')"
      ]
     },
     "execution_count": 72,
     "metadata": {},
     "output_type": "execute_result"
    }
   ],
   "source": [
    "Decimal('Infinity')"
   ]
  },
  {
   "cell_type": "code",
   "execution_count": 73,
   "metadata": {},
   "outputs": [
    {
     "data": {
      "text/plain": [
       "Decimal('-Infinity')"
      ]
     },
     "execution_count": 73,
     "metadata": {},
     "output_type": "execute_result"
    }
   ],
   "source": [
    "Decimal('-Infinity')"
   ]
  },
  {
   "cell_type": "code",
   "execution_count": 74,
   "metadata": {},
   "outputs": [
    {
     "data": {
      "text/plain": [
       "Decimal('NaN')"
      ]
     },
     "execution_count": 74,
     "metadata": {},
     "output_type": "execute_result"
    }
   ],
   "source": [
    "Decimal('NaN')"
   ]
  },
  {
   "cell_type": "markdown",
   "metadata": {},
   "source": [
    "Interaction with other numbers"
   ]
  },
  {
   "cell_type": "code",
   "execution_count": 75,
   "metadata": {},
   "outputs": [
    {
     "ename": "TypeError",
     "evalue": "unsupported operand type(s) for +: 'decimal.Decimal' and 'float'",
     "output_type": "error",
     "traceback": [
      "\u001b[1;31m---------------------------------------------------------------------------\u001b[0m",
      "\u001b[1;31mTypeError\u001b[0m                                 Traceback (most recent call last)",
      "\u001b[1;32m<ipython-input-75-5fe56c55642f>\u001b[0m in \u001b[0;36m<module>\u001b[1;34m()\u001b[0m\n\u001b[1;32m----> 1\u001b[1;33m \u001b[0mDecimal\u001b[0m\u001b[1;33m(\u001b[0m\u001b[1;34m'1.4'\u001b[0m\u001b[1;33m)\u001b[0m \u001b[1;33m+\u001b[0m \u001b[1;36m0.6\u001b[0m\u001b[1;33m\u001b[0m\u001b[0m\n\u001b[0m",
      "\u001b[1;31mTypeError\u001b[0m: unsupported operand type(s) for +: 'decimal.Decimal' and 'float'"
     ]
    }
   ],
   "source": [
    "Decimal('1.4') + 0.6"
   ]
  },
  {
   "cell_type": "markdown",
   "metadata": {},
   "source": [
    "### Modulus Operations with Decimal"
   ]
  },
  {
   "cell_type": "code",
   "execution_count": 78,
   "metadata": {},
   "outputs": [
    {
     "data": {
      "text/plain": [
       "Decimal('-1')"
      ]
     },
     "execution_count": 78,
     "metadata": {},
     "output_type": "execute_result"
    }
   ],
   "source": [
    "Decimal(-7) % Decimal(3)"
   ]
  },
  {
   "cell_type": "markdown",
   "metadata": {},
   "source": [
    "This means that -7 is one less than the next multiple of three towards zero from -7, which is -6"
   ]
  },
  {
   "cell_type": "code",
   "execution_count": 79,
   "metadata": {
    "collapsed": true
   },
   "outputs": [],
   "source": [
    "def is_odd(n):\n",
    "    return n % 2 == 1"
   ]
  },
  {
   "cell_type": "code",
   "execution_count": 80,
   "metadata": {},
   "outputs": [
    {
     "name": "stdout",
     "output_type": "stream",
     "text": [
      "False\n",
      "True\n",
      "False\n",
      "True\n"
     ]
    }
   ],
   "source": [
    "# with ints\n",
    "print(is_odd(2))\n",
    "print(is_odd(3))\n",
    "print(is_odd(-2))\n",
    "print(is_odd(-3))"
   ]
  },
  {
   "cell_type": "code",
   "execution_count": 81,
   "metadata": {},
   "outputs": [
    {
     "name": "stdout",
     "output_type": "stream",
     "text": [
      "False\n",
      "True\n",
      "False\n",
      "True\n"
     ]
    }
   ],
   "source": [
    "# with floats\n",
    "print(is_odd(2.0))\n",
    "print(is_odd(3.0))\n",
    "print(is_odd(-2.0))\n",
    "print(is_odd(-3.0))"
   ]
  },
  {
   "cell_type": "code",
   "execution_count": 82,
   "metadata": {},
   "outputs": [
    {
     "name": "stdout",
     "output_type": "stream",
     "text": [
      "False\n",
      "True\n",
      "False\n",
      "False\n"
     ]
    }
   ],
   "source": [
    "print(is_odd(Decimal(2)))\n",
    "print(is_odd(Decimal(3)))\n",
    "print(is_odd(Decimal(-2)))\n",
    "print(is_odd(Decimal(-3)))"
   ]
  },
  {
   "cell_type": "markdown",
   "metadata": {},
   "source": [
    "This is because -1 not equals +1"
   ]
  },
  {
   "cell_type": "code",
   "execution_count": 83,
   "metadata": {
    "collapsed": true
   },
   "outputs": [],
   "source": [
    "def is_odd(n):\n",
    "    return n % 2 != 0"
   ]
  },
  {
   "cell_type": "code",
   "execution_count": 84,
   "metadata": {},
   "outputs": [
    {
     "name": "stdout",
     "output_type": "stream",
     "text": [
      "True\n"
     ]
    }
   ],
   "source": [
    "print(is_odd(Decimal(-3)))"
   ]
  },
  {
   "cell_type": "markdown",
   "metadata": {},
   "source": [
    "### Other Data types:\n",
    "* The complex(). When dealing with immaginary numbers, use the letter **j**\n",
    "    They follow the Electrical Engineering style, instead of **i**. For example: **c = 3 + 5j**\n",
    "* The cmath module, for complex math\n",
    "* For fraction use the **Fraction** class from the **fractions** module"
   ]
  },
  {
   "cell_type": "code",
   "execution_count": 85,
   "metadata": {},
   "outputs": [
    {
     "data": {
      "text/plain": [
       "Fraction(22, 15)"
      ]
     },
     "execution_count": 85,
     "metadata": {},
     "output_type": "execute_result"
    }
   ],
   "source": [
    "from fractions import Fraction\n",
    "Fraction(2, 3) + Fraction(4, 5)"
   ]
  },
  {
   "cell_type": "code",
   "execution_count": 86,
   "metadata": {},
   "outputs": [
    {
     "data": {
      "text/plain": [
       "Fraction(-2, 15)"
      ]
     },
     "execution_count": 86,
     "metadata": {},
     "output_type": "execute_result"
    }
   ],
   "source": [
    "Fraction(2, 3) - Fraction(4, 5)"
   ]
  },
  {
   "cell_type": "code",
   "execution_count": 87,
   "metadata": {},
   "outputs": [
    {
     "data": {
      "text/plain": [
       "Fraction(8, 15)"
      ]
     },
     "execution_count": 87,
     "metadata": {},
     "output_type": "execute_result"
    }
   ],
   "source": [
    "Fraction(2, 3) * Fraction(4, 5)"
   ]
  },
  {
   "cell_type": "code",
   "execution_count": 88,
   "metadata": {},
   "outputs": [
    {
     "data": {
      "text/plain": [
       "Fraction(5, 6)"
      ]
     },
     "execution_count": 88,
     "metadata": {},
     "output_type": "execute_result"
    }
   ],
   "source": [
    "Fraction(2, 3) / Fraction(4, 5)"
   ]
  },
  {
   "cell_type": "code",
   "execution_count": 89,
   "metadata": {},
   "outputs": [
    {
     "data": {
      "text/plain": [
       "0"
      ]
     },
     "execution_count": 89,
     "metadata": {},
     "output_type": "execute_result"
    }
   ],
   "source": [
    "Fraction(2, 3) // Fraction(4, 5)"
   ]
  },
  {
   "cell_type": "markdown",
   "metadata": {},
   "source": [
    "## Dates and Times with datetime module\n",
    "* date: A Gregorian calendar date\n",
    "* time: The time within an ideal day, which ignores leap seconds\n",
    "* datetime: A composite of **date** and **time**\n",
    "* tzinfo(abstract), timezone(concrete)\n",
    "* timedelta: duration expressing the difference between two date or datetime instances."
   ]
  },
  {
   "cell_type": "code",
   "execution_count": 90,
   "metadata": {},
   "outputs": [
    {
     "data": {
      "text/plain": [
       "datetime.date(2014, 1, 6)"
      ]
     },
     "execution_count": 90,
     "metadata": {},
     "output_type": "execute_result"
    }
   ],
   "source": [
    "# Dates\n",
    "import datetime\n",
    "datetime.date(2014, 1, 6)"
   ]
  },
  {
   "cell_type": "code",
   "execution_count": 91,
   "metadata": {},
   "outputs": [
    {
     "data": {
      "text/plain": [
       "datetime.date(2017, 12, 20)"
      ]
     },
     "execution_count": 91,
     "metadata": {},
     "output_type": "execute_result"
    }
   ],
   "source": [
    "datetime.date(year=2017, month=12, day=20)"
   ]
  },
  {
   "cell_type": "markdown",
   "metadata": {},
   "source": [
    "Named Constructors\n"
   ]
  },
  {
   "cell_type": "code",
   "execution_count": 92,
   "metadata": {},
   "outputs": [
    {
     "data": {
      "text/plain": [
       "datetime.date(2017, 12, 20)"
      ]
     },
     "execution_count": 92,
     "metadata": {},
     "output_type": "execute_result"
    }
   ],
   "source": [
    "datetime.date.today()"
   ]
  },
  {
   "cell_type": "code",
   "execution_count": 93,
   "metadata": {},
   "outputs": [
    {
     "data": {
      "text/plain": [
       "datetime.date(1973, 3, 3)"
      ]
     },
     "execution_count": 93,
     "metadata": {},
     "output_type": "execute_result"
    }
   ],
   "source": [
    "# Create a timestamp from a POSIX timestamp\n",
    "datetime.date.fromtimestamp(100000000)"
   ]
  },
  {
   "cell_type": "code",
   "execution_count": 95,
   "metadata": {},
   "outputs": [
    {
     "data": {
      "text/plain": [
       "datetime.date(1974, 2, 15)"
      ]
     },
     "execution_count": 95,
     "metadata": {},
     "output_type": "execute_result"
    }
   ],
   "source": [
    "# from ordinal which accepts an integer number of days starting\n",
    "#with one on 1st January in year one. Assuming Gregorian calendar\n",
    "datetime.date.fromordinal(720669)"
   ]
  },
  {
   "cell_type": "code",
   "execution_count": 96,
   "metadata": {},
   "outputs": [
    {
     "data": {
      "text/plain": [
       "2017"
      ]
     },
     "execution_count": 96,
     "metadata": {},
     "output_type": "execute_result"
    }
   ],
   "source": [
    "d = datetime.date.today()\n",
    "d.year"
   ]
  },
  {
   "cell_type": "code",
   "execution_count": 97,
   "metadata": {},
   "outputs": [
    {
     "data": {
      "text/plain": [
       "12"
      ]
     },
     "execution_count": 97,
     "metadata": {},
     "output_type": "execute_result"
    }
   ],
   "source": [
    "d.month"
   ]
  },
  {
   "cell_type": "code",
   "execution_count": 98,
   "metadata": {},
   "outputs": [
    {
     "data": {
      "text/plain": [
       "20"
      ]
     },
     "execution_count": 98,
     "metadata": {},
     "output_type": "execute_result"
    }
   ],
   "source": [
    "d.day"
   ]
  },
  {
   "cell_type": "code",
   "execution_count": 99,
   "metadata": {},
   "outputs": [
    {
     "data": {
      "text/plain": [
       "2"
      ]
     },
     "execution_count": 99,
     "metadata": {},
     "output_type": "execute_result"
    }
   ],
   "source": [
    "d.weekday()"
   ]
  },
  {
   "cell_type": "markdown",
   "metadata": {},
   "source": [
    "## Times\n",
    "Use to represent a time wihing an unspecified day with optinal time zone. "
   ]
  },
  {
   "cell_type": "code",
   "execution_count": 100,
   "metadata": {},
   "outputs": [
    {
     "data": {
      "text/plain": [
       "datetime.time(3, 0)"
      ]
     },
     "execution_count": 100,
     "metadata": {},
     "output_type": "execute_result"
    }
   ],
   "source": [
    "datetime.time(3)"
   ]
  },
  {
   "cell_type": "code",
   "execution_count": 101,
   "metadata": {},
   "outputs": [
    {
     "data": {
      "text/plain": [
       "datetime.time(3, 1)"
      ]
     },
     "execution_count": 101,
     "metadata": {},
     "output_type": "execute_result"
    }
   ],
   "source": [
    "# hour and min\n",
    "datetime.time(3, 1)"
   ]
  },
  {
   "cell_type": "code",
   "execution_count": 102,
   "metadata": {},
   "outputs": [
    {
     "data": {
      "text/plain": [
       "datetime.time(3, 1, 2)"
      ]
     },
     "execution_count": 102,
     "metadata": {},
     "output_type": "execute_result"
    }
   ],
   "source": [
    "# hour, min, secs\n",
    "datetime.time(3, 1, 2)"
   ]
  },
  {
   "cell_type": "code",
   "execution_count": 106,
   "metadata": {},
   "outputs": [
    {
     "name": "stdout",
     "output_type": "stream",
     "text": [
      "3\n",
      "1\n",
      "3\n",
      "234\n"
     ]
    }
   ],
   "source": [
    "# hour, min, sec, milisec\n",
    "t = datetime.time(hour=3, minute=1, second=3, microsecond=234)\n",
    "print(t.hour)\n",
    "print(t.minute)\n",
    "print(t.second)\n",
    "print(t.microsecond)"
   ]
  },
  {
   "cell_type": "code",
   "execution_count": null,
   "metadata": {
    "collapsed": true
   },
   "outputs": [],
   "source": []
  }
 ],
 "metadata": {
  "kernelspec": {
   "display_name": "Python 3",
   "language": "python",
   "name": "python3"
  },
  "language_info": {
   "codemirror_mode": {
    "name": "ipython",
    "version": 3
   },
   "file_extension": ".py",
   "mimetype": "text/x-python",
   "name": "python",
   "nbconvert_exporter": "python",
   "pygments_lexer": "ipython3",
   "version": "3.6.3"
  }
 },
 "nbformat": 4,
 "nbformat_minor": 2
}
