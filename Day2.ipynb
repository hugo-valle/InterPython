{
 "cells": [
  {
   "cell_type": "markdown",
   "metadata": {},
   "source": [
    "# First-Class Functions\n",
    "\n",
    "A programming language is said to have first-class function if it treats functions as first-class citizens. \n",
    "\n",
    "A first-class citizen (sometimes called first-class objects) is an entity that supports all the operations generally available to other entities. For exaple, being passed as an argument, returned from a function, and assigned to a variable. "
   ]
  },
  {
   "cell_type": "code",
   "execution_count": 1,
   "metadata": {},
   "outputs": [
    {
     "name": "stdout",
     "output_type": "stream",
     "text": [
      "<function square at 0x00000172C7310D08>\n",
      "25\n"
     ]
    }
   ],
   "source": [
    "def square(x):\n",
    "    return x * x\n",
    "\n",
    "f = square(5)\n",
    "print(square)\n",
    "print(f)"
   ]
  },
  {
   "cell_type": "markdown",
   "metadata": {},
   "source": [
    "You can make **f** take the function by removing the **( )**.\n",
    "\n",
    "Note: Some people only remove the arguments instead of the parenthesis. "
   ]
  },
  {
   "cell_type": "code",
   "execution_count": 2,
   "metadata": {},
   "outputs": [
    {
     "name": "stdout",
     "output_type": "stream",
     "text": [
      "<function square at 0x00000172C7310D08>\n",
      "<function square at 0x00000172C7310D08>\n"
     ]
    }
   ],
   "source": [
    "f = square\n",
    "print(square)\n",
    "print(f)"
   ]
  },
  {
   "cell_type": "markdown",
   "metadata": {},
   "source": [
    "This means that **square** is a first-class function, and we can use **f** as a square"
   ]
  },
  {
   "cell_type": "code",
   "execution_count": 3,
   "metadata": {},
   "outputs": [
    {
     "name": "stdout",
     "output_type": "stream",
     "text": [
      "25\n",
      "25\n"
     ]
    }
   ],
   "source": [
    "print(f(5))\n",
    "print(square(5))"
   ]
  },
  {
   "cell_type": "markdown",
   "metadata": {},
   "source": [
    "If a function accepts functions as arguments, or returns a function, this is called **Higher Order Functions**"
   ]
  },
  {
   "cell_type": "markdown",
   "metadata": {},
   "source": [
    "## Function with function as parameters"
   ]
  },
  {
   "cell_type": "code",
   "execution_count": 4,
   "metadata": {},
   "outputs": [
    {
     "name": "stdout",
     "output_type": "stream",
     "text": [
      "[1, 4, 9, 16, 25, 36]\n"
     ]
    }
   ],
   "source": [
    "def my_map(func, arg_list):\n",
    "    \"\"\"\n",
    "    Takes a function and a list as arguments\n",
    "    and returns a new list\n",
    "    \"\"\"\n",
    "    result = []\n",
    "    for i in arg_list:\n",
    "        result.append(func(i))\n",
    "    return result\n",
    " \n",
    "# Test it with square func\n",
    "squares = my_map(square, [1, 2, 3, 4, 5, 6])\n",
    "print(squares)"
   ]
  },
  {
   "cell_type": "code",
   "execution_count": 5,
   "metadata": {},
   "outputs": [
    {
     "name": "stdout",
     "output_type": "stream",
     "text": [
      "[1, 8, 27, 64, 125, 216]\n"
     ]
    }
   ],
   "source": [
    "def cube(x):\n",
    "    return x * x * x\n",
    "\n",
    "cubes = my_map(cube, [1, 2, 3, 4, 5, 6])\n",
    "print(cubes)"
   ]
  },
  {
   "cell_type": "markdown",
   "metadata": {},
   "source": [
    "## Return a function from another function\n",
    "Note: To call the return value, which is a **callable** object, use parenthesis. "
   ]
  },
  {
   "cell_type": "code",
   "execution_count": 6,
   "metadata": {},
   "outputs": [
    {
     "name": "stdout",
     "output_type": "stream",
     "text": [
      "Log: Hi!\n"
     ]
    }
   ],
   "source": [
    "def logger(msg):\n",
    "    def log_message():\n",
    "        print(\"Log:\", msg)\n",
    "    # NO parenthesis\n",
    "    return log_message\n",
    "# test it\n",
    "log_hi = logger(\"Hi!\")\n",
    "# Now run it\n",
    "log_hi()"
   ]
  },
  {
   "cell_type": "code",
   "execution_count": 8,
   "metadata": {},
   "outputs": [
    {
     "name": "stdout",
     "output_type": "stream",
     "text": [
      "<h1>Test Headline</h1>\n"
     ]
    }
   ],
   "source": [
    "# another example\n",
    "def html_tag(tag):\n",
    "    \n",
    "    def wrap_text(msg):\n",
    "        print(\"<{0}>{1}</{0}>\".format(tag, msg))\n",
    "        \n",
    "    return wrap_text\n",
    "# Test it\n",
    "print_h1 = html_tag(\"h1\")\n",
    "print_h1(\"Test Headline\")"
   ]
  },
  {
   "cell_type": "code",
   "execution_count": 10,
   "metadata": {},
   "outputs": [
    {
     "name": "stdout",
     "output_type": "stream",
     "text": [
      "<p>test paragraph</p>\n"
     ]
    }
   ],
   "source": [
    "print_p= html_tag(\"p\")\n",
    "print_p(\"test paragraph\")"
   ]
  },
  {
   "cell_type": "markdown",
   "metadata": {},
   "source": [
    "### Local functions\n",
    "That is a function defined inside other functions. Remember the **def** key word is used to define functions. It simply binds the body of the function to a name. Just like any other object. The **def** is execute at runtime. So functions are defined at run time. "
   ]
  },
  {
   "cell_type": "code",
   "execution_count": 11,
   "metadata": {
    "collapsed": true
   },
   "outputs": [],
   "source": [
    "def func1():\n",
    "    \"\"\"Regular function\"\"\"\n",
    "    x = 1\n",
    "    y = 2\n",
    "    return x + y\n",
    "\n",
    "def func2():\n",
    "    \"\"\"Regular function\"\"\"\n",
    "    def local_func():\n",
    "        \"\"\"Local function\"\"\"\n",
    "        a = \"hello\"\n",
    "        b = \" world\"\n",
    "        return a + b\n",
    "    x = 1\n",
    "    y = 2\n",
    "    return x + y\n",
    "        "
   ]
  },
  {
   "cell_type": "markdown",
   "metadata": {},
   "source": [
    "Local function are bound by the **Local Enclosed Global Built-in (LEGB)** rule. "
   ]
  },
  {
   "cell_type": "markdown",
   "metadata": {},
   "source": [
    "**Local Function** are NOT members of the containing function in any way. It is just a local name binding. \n",
    "\n",
    "* Useful for specilized, one-off functions\n",
    "* Aid in code organization and readability\n",
    "* Similar to Lambdas, but more general\n",
    "    * may contain multiple expression\n",
    "    * may contain statements"
   ]
  },
  {
   "cell_type": "markdown",
   "metadata": {},
   "source": [
    "## Closures and Nested Scopes\n",
    "\n",
    "Remember, a local function can be returned from a function to be used later. \n",
    "\n",
    "How the fucntion can relate to the variable that no longer exist? How can the local function operates without that enclosing scope?\n",
    "\n",
    "The answer is: **Closures**. A closure essentially remembers the object from the enclosing scope that the local function needs. It then keeps them \"alive\" so that when the local function is executed they can still be used. \n",
    "\n",
    "This prevents the auto garbage collection from cleaning the memory. \n",
    "\n",
    "Python implements closures with the **dunder closure** method. \n",
    "\n",
    "Where is this useful?"
   ]
  },
  {
   "cell_type": "markdown",
   "metadata": {},
   "source": [
    "## Function Factories\n",
    "\n",
    "A common use of **closures** is in **so-called function factories**. These functions return another function where the other function are specilized in some way based on the arguments to the \"factory\". \n",
    "\n",
    "\n",
    "Note: see raise_to.py"
   ]
  },
  {
   "cell_type": "markdown",
   "metadata": {},
   "source": [
    "## Nonlocal keyword\n",
    "Remember you can use the **global** keyword to bing names to global variables. \n",
    "\n",
    "**nonlocal** introduces names from the enclosing namespace into the **local** namespace"
   ]
  },
  {
   "cell_type": "markdown",
   "metadata": {},
   "source": [
    "# Function Decorators\n",
    "\n",
    "At a high-level **decorators** are a way to modify or enhance existing functions in a nonintrusive and amintanable way. \n",
    "\n",
    "In Python a decorator is an object that is **implemented as callable** that **takes a callable** and **returns a callable** object. \n",
    "\n",
    "Think about it as a function that takes a function as argument and returns another function. \n",
    "\n",
    "> @my_decorator<br>\n",
    "> def my_funcion():<br>\n",
    ">    ...\n",
    "\n",
    "* Replace, enhance, or modify existing functions\n",
    "* Does not change the original function definition\n",
    "* Calling code des not need to change\n",
    "* Decorator mechanism uses the modified function's original name. \n",
    "\n",
    "see: escape_unicode.py"
   ]
  },
  {
   "cell_type": "markdown",
   "metadata": {},
   "source": [
    "## Classes as decorators\n",
    "Before we were passing a function as an argument to a function, but how are going to pass a function as argument to a class?\n",
    "\n",
    "We want to decorate the same function, but now through a **Class Decorator**"
   ]
  },
  {
   "cell_type": "code",
   "execution_count": 13,
   "metadata": {},
   "outputs": [
    {
     "name": "stdout",
     "output_type": "stream",
     "text": [
      "Call method executed this before display\n",
      "Display function ran\n",
      "Call method executed this before display_info\n",
      "Display_info ran with parameters (Mario12)\n"
     ]
    }
   ],
   "source": [
    "def decorator_function(original_function):\n",
    "    def wrapper_function(*args, **kwargs):\n",
    "        print('Wrapper executed this before {}'.format(\n",
    "            original_function.__name__ ))\n",
    "        return original_function(*args, **kwargs)\n",
    "\n",
    "    return wrapper_function\n",
    "\n",
    "\n",
    "class Decorator_class(object):\n",
    "    def __init__(self, original_function):\n",
    "        self._original_function = original_function\n",
    "    # Make it callable    \n",
    "    def __call__(self, *args, **kwargs):\n",
    "        print(\"Call method executed this before {}\".format(\n",
    "        self._original_function.__name__))\n",
    "        return self._original_function(*args, **kwargs)\n",
    "\n",
    "#@decorator_function  # function decorator\n",
    "@Decorator_class   # class decorator\n",
    "def display():\n",
    "    print(\"Display function ran\")\n",
    "\n",
    "\n",
    "#@decorator_function # function decorator\n",
    "@Decorator_class   # class decorator\n",
    "def display_info(name, age):\n",
    "    print(\"Display_info ran with parameters ({}{})\".format(\n",
    "        name, age ))\n",
    "    \n",
    "# test it\n",
    "display()\n",
    "display_info(\"Mario\", 12)"
   ]
  },
  {
   "cell_type": "markdown",
   "metadata": {},
   "source": [
    "Some people like to decorate with classes. I will be using functions from now on. "
   ]
  },
  {
   "cell_type": "code",
   "execution_count": 17,
   "metadata": {},
   "outputs": [
    {
     "name": "stdout",
     "output_type": "stream",
     "text": [
      "Display_info ran with parameters (Mary 33)\n"
     ]
    }
   ],
   "source": [
    "def my_logger(orig_func):\n",
    "    import logging\n",
    "    logging.basicConfig(filename='{}.log'.format(\n",
    "        orig_func.__name__), level = logging.INFO)\n",
    "    def wrapper(*args, **kwargs):\n",
    "        logging.info(\n",
    "        \"Ran with args: {}\".format(args, kwargs))\n",
    "        return orig_func(*args, **kwargs) \n",
    "    return wrapper\n",
    "\n",
    "# Decorating\n",
    "@my_logger\n",
    "def display_info(name, age):\n",
    "    print(\"Display_info ran with parameters ({} {})\".format(\n",
    "        name, age ))\n",
    "# Test it\n",
    "display_info(\"Mary\", 33)"
   ]
  },
  {
   "cell_type": "markdown",
   "metadata": {},
   "source": [
    "Another example is to time how long function run"
   ]
  },
  {
   "cell_type": "code",
   "execution_count": 21,
   "metadata": {},
   "outputs": [
    {
     "name": "stdout",
     "output_type": "stream",
     "text": [
      "Display_info ran with parameters (Mary 33)\n",
      "display_info ran in: 1.0107953548431396\n"
     ]
    }
   ],
   "source": [
    "import time\n",
    "\n",
    "def my_timer(orig_func):\n",
    "    def wrapper(*args, **kwargs):\n",
    "        t1 = time.time()\n",
    "        result = orig_func(*args, **kwargs)\n",
    "        t2 = time.time() - t1\n",
    "        print(\"{} ran in: {}\".format(orig_func.__name__, t2))\n",
    "        return result\n",
    "    return wrapper\n",
    "# Decorating\n",
    "@my_timer\n",
    "def display_info(name, age):\n",
    "    print(\"Display_info ran with parameters ({} {})\".format(\n",
    "        name, age ))\n",
    "    time.sleep(1) # sleep\n",
    "    \n",
    "# Test it\n",
    "display_info(\"Mary\", 33)"
   ]
  },
  {
   "cell_type": "markdown",
   "metadata": {},
   "source": [
    "## Multiple decorators\n",
    "One more example to wrap everything. Apply both logger and timer decorators"
   ]
  },
  {
   "cell_type": "code",
   "execution_count": 22,
   "metadata": {},
   "outputs": [
    {
     "name": "stdout",
     "output_type": "stream",
     "text": [
      "Display_info ran with parameters (Mary 33)\n",
      "wrapper ran in: 1.0022706985473633\n"
     ]
    }
   ],
   "source": [
    "# Decorating\n",
    "@my_timer\n",
    "@my_logger\n",
    "def display_info(name, age):\n",
    "    print(\"Display_info ran with parameters ({} {})\".format(\n",
    "        name, age ))\n",
    "    time.sleep(1) # sleep\n",
    "    \n",
    "# Test it\n",
    "display_info(\"Mary\", 33)"
   ]
  },
  {
   "cell_type": "markdown",
   "metadata": {},
   "source": [
    "It is always a good idea to preserve your original decorator information by using the **functools** module. All we need to do is to decorate all of the wrapper with the **wraps** function"
   ]
  },
  {
   "cell_type": "code",
   "execution_count": 23,
   "metadata": {},
   "outputs": [
    {
     "name": "stdout",
     "output_type": "stream",
     "text": [
      "Display_info ran with parameters (Mary 33)\n",
      "display_info ran in: 1.0059611797332764\n"
     ]
    }
   ],
   "source": [
    "# Decorating\n",
    "@my_logger\n",
    "@my_timer\n",
    "def display_info(name, age):\n",
    "    print(\"Display_info ran with parameters ({} {})\".format(\n",
    "        name, age ))\n",
    "    time.sleep(1) # sleep\n",
    "    \n",
    "# Test it\n",
    "display_info(\"Mary\", 33)"
   ]
  },
  {
   "cell_type": "code",
   "execution_count": 26,
   "metadata": {},
   "outputs": [
    {
     "name": "stdout",
     "output_type": "stream",
     "text": [
      "Display_info ran with parameters (Tom 33)\n",
      "display_info ran in: 1.013390064239502\n"
     ]
    }
   ],
   "source": [
    "import time\n",
    "from functools import wraps\n",
    "\n",
    "def my_logger(orig_func):\n",
    "    import logging\n",
    "    logging.basicConfig(filename='{}.log'.format(\n",
    "        orig_func.__name__), level = logging.INFO)\n",
    "    @wraps(orig_func)\n",
    "    def wrapper(*args, **kwargs):\n",
    "        logging.info(\n",
    "        \"Ran with args: {}\".format(args, kwargs))\n",
    "        return orig_func(*args, **kwargs) \n",
    "    return wrapper\n",
    "\n",
    "def my_timer(orig_func):\n",
    "    @wraps(orig_func)\n",
    "    def wrapper(*args, **kwargs):\n",
    "        t1 = time.time()\n",
    "        result = orig_func(*args, **kwargs)\n",
    "        t2 = time.time() - t1\n",
    "        print(\"{} ran in: {}\".format(orig_func.__name__, t2))\n",
    "        return result\n",
    "    return wrapper\n",
    "\n",
    "# Decorating\n",
    "@my_logger\n",
    "@my_timer\n",
    "def display_info(name, age):\n",
    "    print(\"Display_info ran with parameters ({} {})\".format(\n",
    "        name, age ))\n",
    "    time.sleep(1) # sleep\n",
    "    \n",
    "# Test it\n",
    "display_info(\"Tom\", 33)"
   ]
  },
  {
   "cell_type": "markdown",
   "metadata": {},
   "source": [
    "# Properties and Class Methods\n",
    "\n",
    "## Class Attributes\n",
    "### Class Variables"
   ]
  },
  {
   "cell_type": "code",
   "execution_count": 27,
   "metadata": {},
   "outputs": [],
   "source": [
    "class Employee:\n",
    "    def __init__(self, first, last, pay):\n",
    "        self._first = first\n",
    "        self._last = last\n",
    "        self._pay = pay\n",
    "        self._email = first + '.' + last + '@weber.edu'\n",
    "        \n",
    "    def fullname(self):\n",
    "        return \"{} {}\".format(self._first, self._last)"
   ]
  },
  {
   "cell_type": "code",
   "execution_count": 28,
   "metadata": {},
   "outputs": [
    {
     "name": "stdout",
     "output_type": "stream",
     "text": [
      "Juan Perez\n",
      "Ana White\n"
     ]
    }
   ],
   "source": [
    "# Test it\n",
    "emp1 = Employee(\"Juan\", \"Perez\", 50000.00)\n",
    "emp2 = Employee(\"Ana\", \"White\", 550000.00)\n",
    "# Use parenthesis to execute the method\n",
    "print(emp1.fullname())\n",
    "print(emp2.fullname())"
   ]
  },
  {
   "cell_type": "code",
   "execution_count": 29,
   "metadata": {},
   "outputs": [
    {
     "data": {
      "text/plain": [
       "'Juan Perez'"
      ]
     },
     "execution_count": 29,
     "metadata": {},
     "output_type": "execute_result"
    }
   ],
   "source": [
    "# Alternative way of calling a method\n",
    "Employee.fullname(emp1)"
   ]
  },
  {
   "cell_type": "markdown",
   "metadata": {},
   "source": [
    "Class variables are visible for every instance of the class. Instead of local variables to one instance. Looking at the class above, what information we want to share?\n",
    "\n"
   ]
  },
  {
   "cell_type": "code",
   "execution_count": 31,
   "metadata": {},
   "outputs": [
    {
     "name": "stdout",
     "output_type": "stream",
     "text": [
      "50000.99\n",
      "52001\n"
     ]
    }
   ],
   "source": [
    "class Employee:\n",
    "    def __init__(self, first, last, pay):\n",
    "        self._first = first\n",
    "        self._last = last\n",
    "        self._pay = pay\n",
    "        self._email = first + '.' + last + '@weber.edu'\n",
    "        \n",
    "    def fullname(self):\n",
    "        return \"{} {}\".format(self._first, self._last)\n",
    "    \n",
    "    def apply_raise(self):\n",
    "        self._pay = int(self._pay * 1.04) # %4 increase\n",
    "        \n",
    "# test it\n",
    "emp1 = Employee(\"Juan\", \"Perez\", 50000.99)\n",
    "print(emp1._pay)\n",
    "emp1.apply_raise()\n",
    "print(emp1._pay)"
   ]
  },
  {
   "cell_type": "markdown",
   "metadata": {},
   "source": [
    "There are a few thing wrong here. We cannot access the emp1.raise_amount because it does not exist.\n",
    "\n",
    "What if you want to increase more than 4%. \n",
    "\n",
    "Make a class variable."
   ]
  },
  {
   "cell_type": "code",
   "execution_count": 32,
   "metadata": {},
   "outputs": [
    {
     "name": "stdout",
     "output_type": "stream",
     "text": [
      "50000.99\n",
      "52001\n"
     ]
    }
   ],
   "source": [
    "class Employee:\n",
    "    raise_amount = 1.04\n",
    "    def __init__(self, first, last, pay):\n",
    "        self._first = first\n",
    "        self._last = last\n",
    "        self._pay = pay\n",
    "        self._email = first + '.' + last + '@weber.edu'\n",
    "        \n",
    "    def fullname(self):\n",
    "        return \"{} {}\".format(self._first, self._last)\n",
    "    \n",
    "    def apply_raise(self):\n",
    "        self._pay = int(self._pay * self.raise_amount) # %4 increase\n",
    "        \n",
    "# test it\n",
    "emp1 = Employee(\"Juan\", \"Perez\", 50000.99)\n",
    "print(emp1._pay)\n",
    "emp1.apply_raise()\n",
    "print(emp1._pay)"
   ]
  },
  {
   "cell_type": "code",
   "execution_count": 33,
   "metadata": {},
   "outputs": [
    {
     "name": "stdout",
     "output_type": "stream",
     "text": [
      "1.04\n",
      "1.04\n",
      "1.04\n"
     ]
    }
   ],
   "source": [
    "# Access class variables through the class itself\n",
    "# or an instance of the class\n",
    "emp1 = Employee(\"Juan\", \"Perez\", 50000.00)\n",
    "emp2 = Employee(\"Ana\", \"White\", 550000.00)\n",
    "print(Employee.raise_amount)\n",
    "print(emp1.raise_amount)\n",
    "print(emp2.raise_amount)"
   ]
  },
  {
   "cell_type": "markdown",
   "metadata": {},
   "source": [
    "Now, let's look at the namespace of the object"
   ]
  },
  {
   "cell_type": "code",
   "execution_count": 34,
   "metadata": {},
   "outputs": [
    {
     "name": "stdout",
     "output_type": "stream",
     "text": [
      "{'_first': 'Isabel', '_last': 'Smith', '_pay': 92000.2, '_email': 'Isabel.Smith@weber.edu'}\n"
     ]
    }
   ],
   "source": [
    "emp3 = Employee(\"Isabel\", \"Smith\", 92000.20)\n",
    "print(emp3.__dict__)"
   ]
  },
  {
   "cell_type": "markdown",
   "metadata": {},
   "source": [
    "There is no **raise_amount** attribute. If we print the class"
   ]
  },
  {
   "cell_type": "code",
   "execution_count": 35,
   "metadata": {},
   "outputs": [
    {
     "name": "stdout",
     "output_type": "stream",
     "text": [
      "{'__module__': '__main__', 'raise_amount': 1.04, '__init__': <function Employee.__init__ at 0x00000172C739E7B8>, 'fullname': <function Employee.fullname at 0x00000172C739E840>, 'apply_raise': <function Employee.apply_raise at 0x00000172C739ED08>, '__dict__': <attribute '__dict__' of 'Employee' objects>, '__weakref__': <attribute '__weakref__' of 'Employee' objects>, '__doc__': None}\n"
     ]
    }
   ],
   "source": [
    "print(Employee.__dict__)"
   ]
  },
  {
   "cell_type": "markdown",
   "metadata": {},
   "source": [
    "Now, let's see how this affects the instances:"
   ]
  },
  {
   "cell_type": "code",
   "execution_count": 36,
   "metadata": {},
   "outputs": [
    {
     "name": "stdout",
     "output_type": "stream",
     "text": [
      "1.05\n",
      "1.05\n",
      "1.05\n"
     ]
    }
   ],
   "source": [
    "emp1 = Employee(\"Juan\", \"Perez\", 50000.00)\n",
    "emp2 = Employee(\"Ana\", \"White\", 550000.00)\n",
    "Employee.raise_amount = 1.05\n",
    "print(Employee.raise_amount)\n",
    "print(emp1.raise_amount)\n",
    "print(emp2.raise_amount)"
   ]
  },
  {
   "cell_type": "markdown",
   "metadata": {},
   "source": [
    "What if you set the amount_raise through an instance?"
   ]
  },
  {
   "cell_type": "code",
   "execution_count": 37,
   "metadata": {},
   "outputs": [
    {
     "name": "stdout",
     "output_type": "stream",
     "text": [
      "1.05\n",
      "1.08\n",
      "1.05\n"
     ]
    }
   ],
   "source": [
    "emp1.raise_amount = 1.08\n",
    "print(Employee.raise_amount)\n",
    "print(emp1.raise_amount)\n",
    "print(emp2.raise_amount)"
   ]
  },
  {
   "cell_type": "code",
   "execution_count": 39,
   "metadata": {},
   "outputs": [
    {
     "name": "stdout",
     "output_type": "stream",
     "text": [
      "{'_first': 'Juan', '_last': 'Perez', '_pay': 50000.0, '_email': 'Juan.Perez@weber.edu', 'raise_amount': 1.08}\n",
      "{'_first': 'Ana', '_last': 'White', '_pay': 550000.0, '_email': 'Ana.White@weber.edu'}\n"
     ]
    }
   ],
   "source": [
    "print(emp1.__dict__)\n",
    "print(emp2.__dict__)"
   ]
  },
  {
   "cell_type": "code",
   "execution_count": 40,
   "metadata": {},
   "outputs": [
    {
     "name": "stdout",
     "output_type": "stream",
     "text": [
      "{'_first': 'Juan', '_last': 'Perez', '_pay': 50000.0, '_email': 'Juan.Perez@weber.edu', 'raise_amount': 1.08}\n",
      "{'_first': 'Ana', '_last': 'White', '_pay': 550000.0, '_email': 'Ana.White@weber.edu', 'raise_amt': 1.09}\n"
     ]
    }
   ],
   "source": [
    "emp2.raise_amt = 1.09\n",
    "print(emp1.__dict__)\n",
    "print(emp2.__dict__)"
   ]
  },
  {
   "cell_type": "markdown",
   "metadata": {},
   "source": [
    "Now, we find the variable within the local namespace. This is important concept. It depends how you define it. Also, this will allow any **subclass** to overwrite this value if needed. "
   ]
  },
  {
   "cell_type": "code",
   "execution_count": 41,
   "metadata": {},
   "outputs": [
    {
     "name": "stdout",
     "output_type": "stream",
     "text": [
      "0\n",
      "2\n"
     ]
    }
   ],
   "source": [
    "class Employee:\n",
    "    raise_amount = 1.04\n",
    "    num_of_emps = 0\n",
    "    def __init__(self, first, last, pay):\n",
    "        self._first = first\n",
    "        self._last = last\n",
    "        self._pay = pay\n",
    "        self._email = first + '.' + last + '@weber.edu'\n",
    "        \n",
    "        Employee.num_of_emps += 1\n",
    "        \n",
    "    def fullname(self):\n",
    "        return \"{} {}\".format(self._first, self._last)\n",
    "    \n",
    "    def apply_raise(self):\n",
    "        self._pay = int(self._pay * self.raise_amount) # %4 increase\n",
    "        \n",
    "# test \n",
    "print(Employee.num_of_emps)\n",
    "emp1 = Employee(\"Juan\", \"Perez\", 50000.00)\n",
    "emp2 = Employee(\"Ana\", \"White\", 550000.00)\n",
    "print(Employee.num_of_emps)"
   ]
  },
  {
   "cell_type": "markdown",
   "metadata": {},
   "source": [
    "## Class Methods and Static Methods\n",
    "\n",
    "Regular Methods in our classes, take the **self** as the first argument(by convention).\n",
    "\n",
    "To turn a regular method into a **class method**, use a \n",
    "decorator **@classmethod**"
   ]
  },
  {
   "cell_type": "code",
   "execution_count": 42,
   "metadata": {},
   "outputs": [
    {
     "name": "stdout",
     "output_type": "stream",
     "text": [
      "1.04\n",
      "1.04\n",
      "1.04\n"
     ]
    }
   ],
   "source": [
    "class Employee:\n",
    "    raise_amount = 1.04\n",
    "    num_of_emps = 0\n",
    "    def __init__(self, first, last, pay):\n",
    "        self._first = first\n",
    "        self._last = last\n",
    "        self._pay = pay\n",
    "        self._email = first + '.' + last + '@weber.edu'\n",
    "        \n",
    "        Employee.num_of_emps += 1\n",
    "        \n",
    "    def fullname(self):\n",
    "        return \"{} {}\".format(self._first, self._last)\n",
    "    \n",
    "    def apply_raise(self):\n",
    "        self._pay = int(self._pay * self.raise_amount) # %4 increase\n",
    "    \n",
    "    @classmethod\n",
    "    def set_raise_amt(cls, amount):\n",
    "        cls.raise_amount = amount\n",
    "        \n",
    "# test \n",
    "emp1 = Employee(\"Juan\", \"Perez\", 50000.00)\n",
    "emp2 = Employee(\"Ana\", \"White\", 550000.00)\n",
    "print(Employee.raise_amount)\n",
    "print(emp1.raise_amount)\n",
    "print(emp2.raise_amount)"
   ]
  },
  {
   "cell_type": "markdown",
   "metadata": {},
   "source": [
    "As you can see, they all are the same. Now, let's updat the amount to 5%"
   ]
  },
  {
   "cell_type": "code",
   "execution_count": 44,
   "metadata": {},
   "outputs": [
    {
     "name": "stdout",
     "output_type": "stream",
     "text": [
      "1.05\n",
      "1.05\n",
      "1.05\n"
     ]
    }
   ],
   "source": [
    "Employee.set_raise_amt(1.05)\n",
    "print(Employee.raise_amount)\n",
    "print(emp1.raise_amount)\n",
    "print(emp2.raise_amount)"
   ]
  },
  {
   "cell_type": "markdown",
   "metadata": {},
   "source": [
    "You can run **class methods** from an instance, but I do not see the point"
   ]
  },
  {
   "cell_type": "code",
   "execution_count": 45,
   "metadata": {},
   "outputs": [
    {
     "name": "stdout",
     "output_type": "stream",
     "text": [
      "1.07\n",
      "1.07\n",
      "1.07\n"
     ]
    }
   ],
   "source": [
    "# Set it here\n",
    "emp1.set_raise_amt(1.07)\n",
    "print(Employee.raise_amount)\n",
    "print(emp1.raise_amount)\n",
    "print(emp2.raise_amount)"
   ]
  },
  {
   "cell_type": "markdown",
   "metadata": {},
   "source": [
    "### Alternative \"constructors\"\n",
    "Use this **classmethods** to provide multiple ways to create your object.<cr>\n",
    "For example, your data might come in diffrent forms:"
   ]
  },
  {
   "cell_type": "code",
   "execution_count": 46,
   "metadata": {
    "collapsed": true
   },
   "outputs": [],
   "source": [
    "emp1 = Employee(\"Juan\", \"Perez\", 50000.00)\n",
    "emp2 = Employee(\"Ana\", \"White\", 550000.00)\n",
    "# Employee info separated by hyphen\n",
    "emp_str3 = \"Manuel-Garcia-45000\"\n",
    "emp_str4 = 'James-Smith-35000'\n",
    "emp_str5 = \"Manu-Ginobili-42000\"\n",
    "# One is to split it\n",
    "first, last, pay = emp_str3.split('-')\n",
    "emp3 = Employee(first, last, pay)"
   ]
  },
  {
   "cell_type": "markdown",
   "metadata": {},
   "source": [
    "This is a common form, you want to create an alternative way to construct your objets. \n",
    "\n",
    "Create a new **classmethod** by convetion these alternative initializers begin with the form **from\\_** name"
   ]
  },
  {
   "cell_type": "code",
   "execution_count": 47,
   "metadata": {
    "collapsed": true
   },
   "outputs": [],
   "source": [
    "class Employee:\n",
    "    raise_amount = 1.04\n",
    "    num_of_emps = 0\n",
    "    def __init__(self, first, last, pay):\n",
    "        self._first = first\n",
    "        self._last = last\n",
    "        self._pay = pay\n",
    "        self._email = first + '.' + last + '@weber.edu'\n",
    "        \n",
    "        Employee.num_of_emps += 1\n",
    "        \n",
    "    def fullname(self):\n",
    "        return \"{} {}\".format(self._first, self._last)\n",
    "    \n",
    "    def apply_raise(self):\n",
    "        self._pay = int(self._pay * self.raise_amount) # %4 increase\n",
    "    \n",
    "    @classmethod\n",
    "    def set_raise_amt(cls, amount):\n",
    "        cls.raise_amount = amount\n",
    "    \n",
    "    @classmethod\n",
    "    def from_string(cls, emp_str):\n",
    "        first, last, pay = emp_str.split('-')\n",
    "        return cls(first, last, pay) # create and return new employee"
   ]
  },
  {
   "cell_type": "code",
   "execution_count": 48,
   "metadata": {},
   "outputs": [
    {
     "name": "stdout",
     "output_type": "stream",
     "text": [
      "James.Smith@weber.edu\n"
     ]
    }
   ],
   "source": [
    "# test it\n",
    "emp4 = Employee.from_string(emp_str4)\n",
    "print(emp4._email)"
   ]
  },
  {
   "cell_type": "markdown",
   "metadata": {},
   "source": [
    "Now, try it with an existing package. For example: **datetime**"
   ]
  },
  {
   "cell_type": "markdown",
   "metadata": {},
   "source": [
    "## Static Methods\n",
    "* Instance methods pass the **self** as the first parameter\n",
    "* Class methods pass the **cls** as the first parameter\n",
    "* Static methods, do not pass anything automatically. They are just regular definitions. Exept, they are relevant to the class. \n",
    "\n",
    "Ex: You need to pass in a date, and you want to know if this is a working day. This has a logical connection to the class functionality, but does not depend on any instance or class variable.\n",
    "\n",
    "We are also going to use a decorator **@staticmethod**<cr>\n",
    "and use one **\\_** as a prefix to the name"
   ]
  },
  {
   "cell_type": "code",
   "execution_count": 54,
   "metadata": {
    "collapsed": true
   },
   "outputs": [],
   "source": [
    "class Employee:\n",
    "    raise_amount = 1.04\n",
    "    num_of_emps = 0\n",
    "    def __init__(self, first, last, pay):\n",
    "        self._first = first\n",
    "        self._last = last\n",
    "        self._pay = pay\n",
    "        self._email = first + '.' + last + '@weber.edu'\n",
    "        \n",
    "        Employee.num_of_emps += 1\n",
    "        \n",
    "    def fullname(self):\n",
    "        return \"{} {}\".format(self._first, self._last)\n",
    "    \n",
    "    def apply_raise(self):\n",
    "        self._pay = int(self._pay * self.raise_amount) # %4 increase\n",
    "    \n",
    "    @classmethod\n",
    "    def set_raise_amt(cls, amount):\n",
    "        cls.raise_amount = amount\n",
    "    \n",
    "    @classmethod\n",
    "    def from_string(cls, emp_str):\n",
    "        first, last, pay = emp_str.split('-')\n",
    "        return cls(first, last, pay) # create and return new employee\n",
    "    \n",
    "    # Monday = 0, Sunday = 6\n",
    "    @staticmethod\n",
    "    def _is_workday(day):\n",
    "        if day.weekday() == 5 or day.weekday() == 6:\n",
    "            return False\n",
    "        return True"
   ]
  },
  {
   "cell_type": "code",
   "execution_count": 55,
   "metadata": {},
   "outputs": [
    {
     "name": "stdout",
     "output_type": "stream",
     "text": [
      "True\n"
     ]
    }
   ],
   "source": [
    "import datetime\n",
    "datetime.__file__\n",
    "\n",
    "emp1 = Employee(\"Juan\", \"Perez\", 50000.00)\n",
    "emp2 = Employee(\"Ana\", \"White\", 550000.00)\n",
    "my_date = datetime.date(2017, 12, 19)\n",
    "print(Employee._is_workday(my_date))"
   ]
  },
  {
   "cell_type": "markdown",
   "metadata": {},
   "source": [
    "### Choosing Static or Class Method\n",
    "\n",
    "@staticmethod  | @classmethod\n",
    "---------------|------------\n",
    "No access needed to either **class** or **instance** object | Requires access to the class object to call the other class methods or the constructor\n",
    "Most likely an implementation detail of the class | None\n",
    "May be able to moved to become a module scope function | None"
   ]
  },
  {
   "cell_type": "markdown",
   "metadata": {},
   "source": [
    "Get the following file: https://icarus.cs.weber.edu/~hvalle/hafb/iso6346.py"
   ]
  },
  {
   "cell_type": "markdown",
   "metadata": {},
   "source": [
    "### Static Method with Inheritance\n",
    "Let's look at static method and how they behave with **inheritance**.<cr>\n",
    "Unlike other languages, **static methods** can be overwritten in **subclasses**. \n",
    "\n",
    "Any reference in the parent class to the ParentClass name, needs to be updated to use the instance **self** instead of the class name. \n",
    "\n",
    "Note: see shipping.py and iso6346.py"
   ]
  },
  {
   "cell_type": "markdown",
   "metadata": {},
   "source": [
    "## Class Methods with Inheratance\n",
    "\n",
    "If you have experience in other languages, you should recognize this ability to have class methods behave **polymorphically** as a distinguished feature of Python. \n",
    "\n",
    "These features work beacuse the base class **dunder-init** initializer method is inherited into the subclass. \n",
    "\n",
    "To call base class methods, use the **super()** fuction."
   ]
  },
  {
   "cell_type": "markdown",
   "metadata": {},
   "source": [
    "## Using *args and **kwargs to accomodate extra arguments in the base class"
   ]
  },
  {
   "cell_type": "markdown",
   "metadata": {},
   "source": [
    "### Creating a Read only property\n",
    "Use the **@property** decorator\n",
    "\n",
    "See: shipping.py"
   ]
  },
  {
   "cell_type": "code",
   "execution_count": 56,
   "metadata": {
    "collapsed": true
   },
   "outputs": [],
   "source": [
    "# make your attribute Read+Write\n",
    "class Example:\n",
    "    @property\n",
    "    def p(self):\n",
    "        return self._p\n",
    "    \n",
    "    @p.setter \n",
    "    def p(self, value):\n",
    "        self._p = value"
   ]
  },
  {
   "cell_type": "code",
   "execution_count": null,
   "metadata": {
    "collapsed": true
   },
   "outputs": [],
   "source": []
  }
 ],
 "metadata": {
  "kernelspec": {
   "display_name": "Python 3",
   "language": "python",
   "name": "python3"
  },
  "language_info": {
   "codemirror_mode": {
    "name": "ipython",
    "version": 3
   },
   "file_extension": ".py",
   "mimetype": "text/x-python",
   "name": "python",
   "nbconvert_exporter": "python",
   "pygments_lexer": "ipython3",
   "version": "3.6.3"
  }
 },
 "nbformat": 4,
 "nbformat_minor": 2
}
