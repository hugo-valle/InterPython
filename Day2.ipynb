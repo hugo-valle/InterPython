{
 "cells": [
  {
   "cell_type": "markdown",
   "metadata": {},
   "source": [
    "# First-Class Functions\n",
    "\n",
    "A programming language is said to have first-class function if it treats functions as first-class citizens. \n",
    "\n",
    "A first-class citizen (sometimes called first-class objects) is an entity that supports all the operations generally available to other entities. For exaple, being passed as an argument, returned from a function, and assigned to a variable. "
   ]
  },
  {
   "cell_type": "code",
   "execution_count": 1,
   "metadata": {},
   "outputs": [
    {
     "name": "stdout",
     "output_type": "stream",
     "text": [
      "<function square at 0x00000172C7310D08>\n",
      "25\n"
     ]
    }
   ],
   "source": [
    "def square(x):\n",
    "    return x * x\n",
    "\n",
    "f = square(5)\n",
    "print(square)\n",
    "print(f)"
   ]
  },
  {
   "cell_type": "markdown",
   "metadata": {},
   "source": [
    "You can make **f** take the function by removing the **( )**.\n",
    "\n",
    "Note: Some people only remove the arguments instead of the parenthesis. "
   ]
  },
  {
   "cell_type": "code",
   "execution_count": 2,
   "metadata": {},
   "outputs": [
    {
     "name": "stdout",
     "output_type": "stream",
     "text": [
      "<function square at 0x00000172C7310D08>\n",
      "<function square at 0x00000172C7310D08>\n"
     ]
    }
   ],
   "source": [
    "f = square\n",
    "print(square)\n",
    "print(f)"
   ]
  },
  {
   "cell_type": "markdown",
   "metadata": {},
   "source": [
    "This means that **square** is a first-class function, and we can use **f** as a square"
   ]
  },
  {
   "cell_type": "code",
   "execution_count": 3,
   "metadata": {},
   "outputs": [
    {
     "name": "stdout",
     "output_type": "stream",
     "text": [
      "25\n",
      "25\n"
     ]
    }
   ],
   "source": [
    "print(f(5))\n",
    "print(square(5))"
   ]
  },
  {
   "cell_type": "markdown",
   "metadata": {},
   "source": [
    "If a function accepts functions as arguments, or returns a function, this is called **Higher Order Functions**"
   ]
  },
  {
   "cell_type": "markdown",
   "metadata": {},
   "source": [
    "## Function with function as parameters"
   ]
  },
  {
   "cell_type": "code",
   "execution_count": 4,
   "metadata": {},
   "outputs": [
    {
     "name": "stdout",
     "output_type": "stream",
     "text": [
      "[1, 4, 9, 16, 25, 36]\n"
     ]
    }
   ],
   "source": [
    "def my_map(func, arg_list):\n",
    "    \"\"\"\n",
    "    Takes a function and a list as arguments\n",
    "    and returns a new list\n",
    "    \"\"\"\n",
    "    result = []\n",
    "    for i in arg_list:\n",
    "        result.append(func(i))\n",
    "    return result\n",
    " \n",
    "# Test it with square func\n",
    "squares = my_map(square, [1, 2, 3, 4, 5, 6])\n",
    "print(squares)"
   ]
  },
  {
   "cell_type": "code",
   "execution_count": 5,
   "metadata": {},
   "outputs": [
    {
     "name": "stdout",
     "output_type": "stream",
     "text": [
      "[1, 8, 27, 64, 125, 216]\n"
     ]
    }
   ],
   "source": [
    "def cube(x):\n",
    "    return x * x * x\n",
    "\n",
    "cubes = my_map(cube, [1, 2, 3, 4, 5, 6])\n",
    "print(cubes)"
   ]
  },
  {
   "cell_type": "markdown",
   "metadata": {},
   "source": [
    "## Return a function from another function\n",
    "Note: To call the return value, which is a **callable** object, use parenthesis. "
   ]
  },
  {
   "cell_type": "code",
   "execution_count": 6,
   "metadata": {},
   "outputs": [
    {
     "name": "stdout",
     "output_type": "stream",
     "text": [
      "Log: Hi!\n"
     ]
    }
   ],
   "source": [
    "def logger(msg):\n",
    "    def log_message():\n",
    "        print(\"Log:\", msg)\n",
    "    # NO parenthesis\n",
    "    return log_message\n",
    "# test it\n",
    "log_hi = logger(\"Hi!\")\n",
    "# Now run it\n",
    "log_hi()"
   ]
  },
  {
   "cell_type": "code",
   "execution_count": 8,
   "metadata": {},
   "outputs": [
    {
     "name": "stdout",
     "output_type": "stream",
     "text": [
      "<h1>Test Headline</h1>\n"
     ]
    }
   ],
   "source": [
    "# another example\n",
    "def html_tag(tag):\n",
    "    \n",
    "    def wrap_text(msg):\n",
    "        print(\"<{0}>{1}</{0}>\".format(tag, msg))\n",
    "        \n",
    "    return wrap_text\n",
    "# Test it\n",
    "print_h1 = html_tag(\"h1\")\n",
    "print_h1(\"Test Headline\")"
   ]
  },
  {
   "cell_type": "code",
   "execution_count": 10,
   "metadata": {},
   "outputs": [
    {
     "name": "stdout",
     "output_type": "stream",
     "text": [
      "<p>test paragraph</p>\n"
     ]
    }
   ],
   "source": [
    "print_p= html_tag(\"p\")\n",
    "print_p(\"test paragraph\")"
   ]
  },
  {
   "cell_type": "markdown",
   "metadata": {},
   "source": [
    "### Local functions\n",
    "That is a function defined inside other functions. Remember the **def** key word is used to define functions. It simply binds the body of the function to a name. Just like any other object. The **def** is execute at runtime. So functions are defined at run time. "
   ]
  },
  {
   "cell_type": "code",
   "execution_count": 11,
   "metadata": {
    "collapsed": true
   },
   "outputs": [],
   "source": [
    "def func1():\n",
    "    \"\"\"Regular function\"\"\"\n",
    "    x = 1\n",
    "    y = 2\n",
    "    return x + y\n",
    "\n",
    "def func2():\n",
    "    \"\"\"Regular function\"\"\"\n",
    "    def local_func():\n",
    "        \"\"\"Local function\"\"\"\n",
    "        a = \"hello\"\n",
    "        b = \" world\"\n",
    "        return a + b\n",
    "    x = 1\n",
    "    y = 2\n",
    "    return x + y\n",
    "        "
   ]
  },
  {
   "cell_type": "markdown",
   "metadata": {},
   "source": [
    "Local function are bound by the **Local Enclosed Global Built-in (LEGB)** rule. "
   ]
  },
  {
   "cell_type": "code",
   "execution_count": null,
   "metadata": {
    "collapsed": true
   },
   "outputs": [],
   "source": []
  }
 ],
 "metadata": {
  "kernelspec": {
   "display_name": "Python 3",
   "language": "python",
   "name": "python3"
  },
  "language_info": {
   "codemirror_mode": {
    "name": "ipython",
    "version": 3
   },
   "file_extension": ".py",
   "mimetype": "text/x-python",
   "name": "python",
   "nbconvert_exporter": "python",
   "pygments_lexer": "ipython3",
   "version": "3.6.3"
  }
 },
 "nbformat": 4,
 "nbformat_minor": 2
}
