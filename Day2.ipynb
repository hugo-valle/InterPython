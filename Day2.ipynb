{
 "cells": [
  {
   "cell_type": "markdown",
   "metadata": {},
   "source": [
    "# First-Class Functions\n",
    "\n",
    "A programming language is said to have first-class function if it treats functions as first-class citizens. \n",
    "\n",
    "A first-class citizen (sometimes called first-class objects) is an entity that supports all the operations generally available to other entities. For exaple, being passed as an argument, returned from a function, and assigned to a variable. "
   ]
  },
  {
   "cell_type": "code",
   "execution_count": 1,
   "metadata": {},
   "outputs": [
    {
     "name": "stdout",
     "output_type": "stream",
     "text": [
      "<function square at 0x00000172C7310D08>\n",
      "25\n"
     ]
    }
   ],
   "source": [
    "def square(x):\n",
    "    return x * x\n",
    "\n",
    "f = square(5)\n",
    "print(square)\n",
    "print(f)"
   ]
  },
  {
   "cell_type": "markdown",
   "metadata": {},
   "source": [
    "You can make **f** take the function by removing the **( )**.\n",
    "\n",
    "Note: Some people only remove the arguments instead of the parenthesis. "
   ]
  },
  {
   "cell_type": "code",
   "execution_count": 2,
   "metadata": {},
   "outputs": [
    {
     "name": "stdout",
     "output_type": "stream",
     "text": [
      "<function square at 0x00000172C7310D08>\n",
      "<function square at 0x00000172C7310D08>\n"
     ]
    }
   ],
   "source": [
    "f = square\n",
    "print(square)\n",
    "print(f)"
   ]
  },
  {
   "cell_type": "markdown",
   "metadata": {},
   "source": [
    "This means that **square** is a first-class function, and we can use **f** as a square"
   ]
  },
  {
   "cell_type": "code",
   "execution_count": 3,
   "metadata": {},
   "outputs": [
    {
     "name": "stdout",
     "output_type": "stream",
     "text": [
      "25\n",
      "25\n"
     ]
    }
   ],
   "source": [
    "print(f(5))\n",
    "print(square(5))"
   ]
  },
  {
   "cell_type": "markdown",
   "metadata": {},
   "source": [
    "If a function accepts functions as arguments, or returns a function, this is called **Higher Order Functions**"
   ]
  },
  {
   "cell_type": "markdown",
   "metadata": {},
   "source": [
    "## Function with function as parameters"
   ]
  },
  {
   "cell_type": "code",
   "execution_count": 4,
   "metadata": {},
   "outputs": [
    {
     "name": "stdout",
     "output_type": "stream",
     "text": [
      "[1, 4, 9, 16, 25, 36]\n"
     ]
    }
   ],
   "source": [
    "def my_map(func, arg_list):\n",
    "    \"\"\"\n",
    "    Takes a function and a list as arguments\n",
    "    and returns a new list\n",
    "    \"\"\"\n",
    "    result = []\n",
    "    for i in arg_list:\n",
    "        result.append(func(i))\n",
    "    return result\n",
    " \n",
    "# Test it with square func\n",
    "squares = my_map(square, [1, 2, 3, 4, 5, 6])\n",
    "print(squares)"
   ]
  },
  {
   "cell_type": "code",
   "execution_count": 5,
   "metadata": {},
   "outputs": [
    {
     "name": "stdout",
     "output_type": "stream",
     "text": [
      "[1, 8, 27, 64, 125, 216]\n"
     ]
    }
   ],
   "source": [
    "def cube(x):\n",
    "    return x * x * x\n",
    "\n",
    "cubes = my_map(cube, [1, 2, 3, 4, 5, 6])\n",
    "print(cubes)"
   ]
  },
  {
   "cell_type": "markdown",
   "metadata": {},
   "source": [
    "## Return a function from another function\n",
    "Note: To call the return value, which is a **callable** object, use parenthesis. "
   ]
  },
  {
   "cell_type": "code",
   "execution_count": 6,
   "metadata": {},
   "outputs": [
    {
     "name": "stdout",
     "output_type": "stream",
     "text": [
      "Log: Hi!\n"
     ]
    }
   ],
   "source": [
    "def logger(msg):\n",
    "    def log_message():\n",
    "        print(\"Log:\", msg)\n",
    "    # NO parenthesis\n",
    "    return log_message\n",
    "# test it\n",
    "log_hi = logger(\"Hi!\")\n",
    "# Now run it\n",
    "log_hi()"
   ]
  },
  {
   "cell_type": "code",
   "execution_count": 8,
   "metadata": {},
   "outputs": [
    {
     "name": "stdout",
     "output_type": "stream",
     "text": [
      "<h1>Test Headline</h1>\n"
     ]
    }
   ],
   "source": [
    "# another example\n",
    "def html_tag(tag):\n",
    "    \n",
    "    def wrap_text(msg):\n",
    "        print(\"<{0}>{1}</{0}>\".format(tag, msg))\n",
    "        \n",
    "    return wrap_text\n",
    "# Test it\n",
    "print_h1 = html_tag(\"h1\")\n",
    "print_h1(\"Test Headline\")"
   ]
  },
  {
   "cell_type": "code",
   "execution_count": 10,
   "metadata": {},
   "outputs": [
    {
     "name": "stdout",
     "output_type": "stream",
     "text": [
      "<p>test paragraph</p>\n"
     ]
    }
   ],
   "source": [
    "print_p= html_tag(\"p\")\n",
    "print_p(\"test paragraph\")"
   ]
  },
  {
   "cell_type": "markdown",
   "metadata": {},
   "source": [
    "### Local functions\n",
    "That is a function defined inside other functions. Remember the **def** key word is used to define functions. It simply binds the body of the function to a name. Just like any other object. The **def** is execute at runtime. So functions are defined at run time. "
   ]
  },
  {
   "cell_type": "code",
   "execution_count": 11,
   "metadata": {
    "collapsed": true
   },
   "outputs": [],
   "source": [
    "def func1():\n",
    "    \"\"\"Regular function\"\"\"\n",
    "    x = 1\n",
    "    y = 2\n",
    "    return x + y\n",
    "\n",
    "def func2():\n",
    "    \"\"\"Regular function\"\"\"\n",
    "    def local_func():\n",
    "        \"\"\"Local function\"\"\"\n",
    "        a = \"hello\"\n",
    "        b = \" world\"\n",
    "        return a + b\n",
    "    x = 1\n",
    "    y = 2\n",
    "    return x + y\n",
    "        "
   ]
  },
  {
   "cell_type": "markdown",
   "metadata": {},
   "source": [
    "Local function are bound by the **Local Enclosed Global Built-in (LEGB)** rule. "
   ]
  },
  {
   "cell_type": "markdown",
   "metadata": {},
   "source": [
    "**Local Function** are NOT members of the containing function in any way. It is just a local name binding. \n",
    "\n",
    "* Useful for specilized, one-off functions\n",
    "* Aid in code organization and readability\n",
    "* Similar to Lambdas, but more general\n",
    "    * may contain multiple expression\n",
    "    * may contain statements"
   ]
  },
  {
   "cell_type": "markdown",
   "metadata": {},
   "source": [
    "## Closures and Nested Scopes\n",
    "\n",
    "Remember, a local function can be returned from a function to be used later. \n",
    "\n",
    "How the fucntion can relate to the variable that no longer exist? How can the local function operates without that enclosing scope?\n",
    "\n",
    "The answer is: **Closures**. A closure essentially remembers the object from the enclosing scope that the local function needs. It then keeps them \"alive\" so that when the local function is executed they can still be used. \n",
    "\n",
    "This prevents the auto garbage collection from cleaning the memory. \n",
    "\n",
    "Python implements closures with the **dunder closure** method. \n",
    "\n",
    "Where is this useful?"
   ]
  },
  {
   "cell_type": "markdown",
   "metadata": {},
   "source": [
    "## Function Factories\n",
    "\n",
    "A common use of **closures** is in **so-called function factories**. These functions return another function where the other function are specilized in some way based on the arguments to the \"factory\". \n",
    "\n",
    "\n",
    "Note: see raise_to.py"
   ]
  },
  {
   "cell_type": "markdown",
   "metadata": {},
   "source": [
    "## Nonlocal keyword\n",
    "Remember you can use the **global** keyword to bing names to global variables. \n",
    "\n",
    "**nonlocal** introduces names from the enclosing namespace into the **local** namespace"
   ]
  },
  {
   "cell_type": "markdown",
   "metadata": {},
   "source": [
    "# Function Decorators\n",
    "\n",
    "At a high-level **decorators** are a way to modify or enhance existing functions in a nonintrusive and amintanable way. \n",
    "\n",
    "In Python a decorator is an object that is **implemented as callable** that **takes a callable** and **returns a callable** object. \n",
    "\n",
    "Think about it as a function that takes a function as argument and returns another function. \n",
    "\n",
    "> @my_decorator<br>\n",
    "> def my_funcion():<br>\n",
    ">    ...\n",
    "\n",
    "* Replace, enhance, or modify existing functions\n",
    "* Does not change the original function definition\n",
    "* Calling code des not need to change\n",
    "* Decorator mechanism uses the modified function's original name. \n",
    "\n",
    "see: escape_unicode.py"
   ]
  },
  {
   "cell_type": "markdown",
   "metadata": {},
   "source": [
    "## Classes as decorators\n",
    "Before we were passing a function as an argument to a function, but how are going to pass a function as argument to a class?\n",
    "\n",
    "We want to decorate the same function, but now through a **Class Decorator**"
   ]
  },
  {
   "cell_type": "code",
   "execution_count": 13,
   "metadata": {},
   "outputs": [
    {
     "name": "stdout",
     "output_type": "stream",
     "text": [
      "Call method executed this before display\n",
      "Display function ran\n",
      "Call method executed this before display_info\n",
      "Display_info ran with parameters (Mario12)\n"
     ]
    }
   ],
   "source": [
    "def decorator_function(original_function):\n",
    "    def wrapper_function(*args, **kwargs):\n",
    "        print('Wrapper executed this before {}'.format(\n",
    "            original_function.__name__ ))\n",
    "        return original_function(*args, **kwargs)\n",
    "\n",
    "    return wrapper_function\n",
    "\n",
    "\n",
    "class Decorator_class(object):\n",
    "    def __init__(self, original_function):\n",
    "        self._original_function = original_function\n",
    "    # Make it callable    \n",
    "    def __call__(self, *args, **kwargs):\n",
    "        print(\"Call method executed this before {}\".format(\n",
    "        self._original_function.__name__))\n",
    "        return self._original_function(*args, **kwargs)\n",
    "\n",
    "#@decorator_function  # function decorator\n",
    "@Decorator_class   # class decorator\n",
    "def display():\n",
    "    print(\"Display function ran\")\n",
    "\n",
    "\n",
    "#@decorator_function # function decorator\n",
    "@Decorator_class   # class decorator\n",
    "def display_info(name, age):\n",
    "    print(\"Display_info ran with parameters ({}{})\".format(\n",
    "        name, age ))\n",
    "    \n",
    "# test it\n",
    "display()\n",
    "display_info(\"Mario\", 12)"
   ]
  },
  {
   "cell_type": "markdown",
   "metadata": {},
   "source": [
    "Some people like to decorate with classes. I will be using functions from now on. "
   ]
  },
  {
   "cell_type": "code",
   "execution_count": 17,
   "metadata": {},
   "outputs": [
    {
     "name": "stdout",
     "output_type": "stream",
     "text": [
      "Display_info ran with parameters (Mary 33)\n"
     ]
    }
   ],
   "source": [
    "def my_logger(orig_func):\n",
    "    import logging\n",
    "    logging.basicConfig(filename='{}.log'.format(\n",
    "        orig_func.__name__), level = logging.INFO)\n",
    "    def wrapper(*args, **kwargs):\n",
    "        logging.info(\n",
    "        \"Ran with args: {}\".format(args, kwargs))\n",
    "        return orig_func(*args, **kwargs) \n",
    "    return wrapper\n",
    "\n",
    "# Decorating\n",
    "@my_logger\n",
    "def display_info(name, age):\n",
    "    print(\"Display_info ran with parameters ({} {})\".format(\n",
    "        name, age ))\n",
    "# Test it\n",
    "display_info(\"Mary\", 33)"
   ]
  },
  {
   "cell_type": "markdown",
   "metadata": {},
   "source": [
    "Another example is to time how long function run"
   ]
  },
  {
   "cell_type": "code",
   "execution_count": 21,
   "metadata": {},
   "outputs": [
    {
     "name": "stdout",
     "output_type": "stream",
     "text": [
      "Display_info ran with parameters (Mary 33)\n",
      "display_info ran in: 1.0107953548431396\n"
     ]
    }
   ],
   "source": [
    "import time\n",
    "\n",
    "def my_timer(orig_func):\n",
    "    def wrapper(*args, **kwargs):\n",
    "        t1 = time.time()\n",
    "        result = orig_func(*args, **kwargs)\n",
    "        t2 = time.time() - t1\n",
    "        print(\"{} ran in: {}\".format(orig_func.__name__, t2))\n",
    "        return result\n",
    "    return wrapper\n",
    "# Decorating\n",
    "@my_timer\n",
    "def display_info(name, age):\n",
    "    print(\"Display_info ran with parameters ({} {})\".format(\n",
    "        name, age ))\n",
    "    time.sleep(1) # sleep\n",
    "    \n",
    "# Test it\n",
    "display_info(\"Mary\", 33)"
   ]
  },
  {
   "cell_type": "markdown",
   "metadata": {},
   "source": [
    "## Multiple decorators\n",
    "One more example to wrap everything. Apply both logger and timer decorators"
   ]
  },
  {
   "cell_type": "code",
   "execution_count": 22,
   "metadata": {},
   "outputs": [
    {
     "name": "stdout",
     "output_type": "stream",
     "text": [
      "Display_info ran with parameters (Mary 33)\n",
      "wrapper ran in: 1.0022706985473633\n"
     ]
    }
   ],
   "source": [
    "# Decorating\n",
    "@my_timer\n",
    "@my_logger\n",
    "def display_info(name, age):\n",
    "    print(\"Display_info ran with parameters ({} {})\".format(\n",
    "        name, age ))\n",
    "    time.sleep(1) # sleep\n",
    "    \n",
    "# Test it\n",
    "display_info(\"Mary\", 33)"
   ]
  },
  {
   "cell_type": "markdown",
   "metadata": {},
   "source": [
    "It is always a good idea to preserve your original decorator information by using the **functools** module. All we need to do is to decorate all of the wrapper with the **wraps** function"
   ]
  },
  {
   "cell_type": "code",
   "execution_count": 23,
   "metadata": {},
   "outputs": [
    {
     "name": "stdout",
     "output_type": "stream",
     "text": [
      "Display_info ran with parameters (Mary 33)\n",
      "display_info ran in: 1.0059611797332764\n"
     ]
    }
   ],
   "source": [
    "# Decorating\n",
    "@my_logger\n",
    "@my_timer\n",
    "def display_info(name, age):\n",
    "    print(\"Display_info ran with parameters ({} {})\".format(\n",
    "        name, age ))\n",
    "    time.sleep(1) # sleep\n",
    "    \n",
    "# Test it\n",
    "display_info(\"Mary\", 33)"
   ]
  },
  {
   "cell_type": "code",
   "execution_count": 26,
   "metadata": {},
   "outputs": [
    {
     "name": "stdout",
     "output_type": "stream",
     "text": [
      "Display_info ran with parameters (Tom 33)\n",
      "display_info ran in: 1.013390064239502\n"
     ]
    }
   ],
   "source": [
    "import time\n",
    "from functools import wraps\n",
    "\n",
    "def my_logger(orig_func):\n",
    "    import logging\n",
    "    logging.basicConfig(filename='{}.log'.format(\n",
    "        orig_func.__name__), level = logging.INFO)\n",
    "    @wraps(orig_func)\n",
    "    def wrapper(*args, **kwargs):\n",
    "        logging.info(\n",
    "        \"Ran with args: {}\".format(args, kwargs))\n",
    "        return orig_func(*args, **kwargs) \n",
    "    return wrapper\n",
    "\n",
    "def my_timer(orig_func):\n",
    "    @wraps(orig_func)\n",
    "    def wrapper(*args, **kwargs):\n",
    "        t1 = time.time()\n",
    "        result = orig_func(*args, **kwargs)\n",
    "        t2 = time.time() - t1\n",
    "        print(\"{} ran in: {}\".format(orig_func.__name__, t2))\n",
    "        return result\n",
    "    return wrapper\n",
    "\n",
    "# Decorating\n",
    "@my_logger\n",
    "@my_timer\n",
    "def display_info(name, age):\n",
    "    print(\"Display_info ran with parameters ({} {})\".format(\n",
    "        name, age ))\n",
    "    time.sleep(1) # sleep\n",
    "    \n",
    "# Test it\n",
    "display_info(\"Tom\", 33)"
   ]
  },
  {
   "cell_type": "code",
   "execution_count": null,
   "metadata": {
    "collapsed": true
   },
   "outputs": [],
   "source": []
  }
 ],
 "metadata": {
  "kernelspec": {
   "display_name": "Python 3",
   "language": "python",
   "name": "python3"
  },
  "language_info": {
   "codemirror_mode": {
    "name": "ipython",
    "version": 3
   },
   "file_extension": ".py",
   "mimetype": "text/x-python",
   "name": "python",
   "nbconvert_exporter": "python",
   "pygments_lexer": "ipython3",
   "version": "3.6.3"
  }
 },
 "nbformat": 4,
 "nbformat_minor": 2
}
