{
 "cells": [
  {
   "cell_type": "code",
   "execution_count": 3,
   "metadata": {},
   "outputs": [
    {
     "name": "stdout",
     "output_type": "stream",
     "text": [
      "Hello Jupyter!\n"
     ]
    }
   ],
   "source": [
    "print(\"Hello Jupyter!\")"
   ]
  },
  {
   "cell_type": "markdown",
   "metadata": {},
   "source": [
    "# Jupyter Notebook Shortcuts\n",
    "\n",
    "* ESC - to exit input mode (blue bar)\n",
    "* ENTER- to switch to input mode (green bar)\n",
    "* y - python cell\n",
    "* m - markdown cell\n",
    "* Shift+Enger - Execute cell below, and insert new cell\n",
    "* Ctrl+Enter - Execute cell below"
   ]
  },
  {
   "cell_type": "markdown",
   "metadata": {},
   "source": [
    "# Intermediate Python\n",
    "\n",
    "## Prerequisites: \n",
    "* Access the REPL \n",
    "* Define Functions, pass information to parameters\n",
    "* Working with single modules\n",
    "* Built-In Types: int, float, str, list, dict, and set\n",
    "* Basics Python Object Model works for defined classes\n",
    "* Basics of Rasinng and Handling Errors: try, except, finally\n",
    "* Basics of **iterables** and **iterators**: for, while loops, next, iter\n",
    "* Reading and Writing text and binary files: open, close, **with**\n",
    "* Special terminology: \\_\\_method\\_\\_ \"dunder\""
   ]
  },
  {
   "cell_type": "markdown",
   "metadata": {},
   "source": [
    "# Organizing Larger Programs\n",
    "### Packages\n",
    "The module is the basic  tool to organize your code in Python. After you impor it, it is represented as a **class module**.\n",
    "\n",
    "A **package** in Python is just a special type of module. "
   ]
  },
  {
   "cell_type": "code",
   "execution_count": 4,
   "metadata": {
    "collapsed": true
   },
   "outputs": [],
   "source": [
    "# Examples\n",
    "import urllib\n",
    "import urllib.request"
   ]
  },
  {
   "cell_type": "code",
   "execution_count": 6,
   "metadata": {},
   "outputs": [
    {
     "name": "stdout",
     "output_type": "stream",
     "text": [
      "<class 'module'>\n",
      "<class 'module'>\n"
     ]
    }
   ],
   "source": [
    "print(type(urllib))\n",
    "print(type(urllib.request))"
   ]
  },
  {
   "cell_type": "code",
   "execution_count": 7,
   "metadata": {},
   "outputs": [
    {
     "name": "stdout",
     "output_type": "stream",
     "text": [
      "['C:\\\\ProgramData\\\\Anaconda3\\\\lib\\\\urllib']\n"
     ]
    }
   ],
   "source": [
    "# Where are you?\n",
    "print(urllib.__path__)"
   ]
  },
  {
   "cell_type": "code",
   "execution_count": 8,
   "metadata": {},
   "outputs": [
    {
     "ename": "AttributeError",
     "evalue": "module 'urllib.request' has no attribute '__path__'",
     "output_type": "error",
     "traceback": [
      "\u001b[1;31m---------------------------------------------------------------------------\u001b[0m",
      "\u001b[1;31mAttributeError\u001b[0m                            Traceback (most recent call last)",
      "\u001b[1;32m<ipython-input-8-a87099bc1d2d>\u001b[0m in \u001b[0;36m<module>\u001b[1;34m()\u001b[0m\n\u001b[1;32m----> 1\u001b[1;33m \u001b[0mprint\u001b[0m\u001b[1;33m(\u001b[0m\u001b[0murllib\u001b[0m\u001b[1;33m.\u001b[0m\u001b[0mrequest\u001b[0m\u001b[1;33m.\u001b[0m\u001b[0m__path__\u001b[0m\u001b[1;33m)\u001b[0m\u001b[1;33m\u001b[0m\u001b[0m\n\u001b[0m",
      "\u001b[1;31mAttributeError\u001b[0m: module 'urllib.request' has no attribute '__path__'"
     ]
    }
   ],
   "source": [
    "print(urllib.request.__path__)"
   ]
  },
  {
   "cell_type": "markdown",
   "metadata": {},
   "source": [
    "Packages are generally represented by directories while **modules** are single files. "
   ]
  },
  {
   "cell_type": "code",
   "execution_count": 9,
   "metadata": {},
   "outputs": [
    {
     "name": "stdout",
     "output_type": "stream",
     "text": [
      "['', 'C:\\\\ProgramData\\\\Anaconda3\\\\python36.zip', 'C:\\\\ProgramData\\\\Anaconda3\\\\DLLs', 'C:\\\\ProgramData\\\\Anaconda3\\\\lib', 'C:\\\\ProgramData\\\\Anaconda3', 'C:\\\\ProgramData\\\\Anaconda3\\\\lib\\\\site-packages', 'C:\\\\ProgramData\\\\Anaconda3\\\\lib\\\\site-packages\\\\Babel-2.5.0-py3.6.egg', 'C:\\\\ProgramData\\\\Anaconda3\\\\lib\\\\site-packages\\\\win32', 'C:\\\\ProgramData\\\\Anaconda3\\\\lib\\\\site-packages\\\\win32\\\\lib', 'C:\\\\ProgramData\\\\Anaconda3\\\\lib\\\\site-packages\\\\Pythonwin', 'C:\\\\ProgramData\\\\Anaconda3\\\\lib\\\\site-packages\\\\IPython\\\\extensions', 'C:\\\\Users\\\\hugovalle1\\\\.ipython']\n"
     ]
    }
   ],
   "source": [
    "# sys path\n",
    "import sys \n",
    "print(sys.path)"
   ]
  },
  {
   "cell_type": "code",
   "execution_count": 10,
   "metadata": {},
   "outputs": [
    {
     "data": {
      "text/plain": [
       "'C:\\\\ProgramData\\\\Anaconda3\\\\python36.zip'"
      ]
     },
     "execution_count": 10,
     "metadata": {},
     "output_type": "execute_result"
    }
   ],
   "source": [
    "sys.path[1]"
   ]
  },
  {
   "cell_type": "code",
   "execution_count": 11,
   "metadata": {},
   "outputs": [
    {
     "data": {
      "text/plain": [
       "'C:\\\\Users\\\\hugovalle1\\\\.ipython'"
      ]
     },
     "execution_count": 11,
     "metadata": {},
     "output_type": "execute_result"
    }
   ],
   "source": [
    "# Get last member\n",
    "sys.path[-1]"
   ]
  },
  {
   "cell_type": "markdown",
   "metadata": {},
   "source": [
    "Note:See not_serached package in pycharms"
   ]
  },
  {
   "cell_type": "markdown",
   "metadata": {},
   "source": [
    "#### PYTHONPATH \n",
    "If you need to alter your **PYTHONPATH** variable use these commands: \n",
    "\n",
    "Windows (power shell):\n",
    "* has a ; separated fields\n",
    "* Set the environment: **Set-Item Env:PYTHONPATH \"not_searched\"**\n",
    "\n",
    "Linux:\n",
    "* has a : separated fields\n",
    "* Use the **set** command to set the environment variable: **set PYTHONPATH=\"not_searched\"**"
   ]
  },
  {
   "cell_type": "markdown",
   "metadata": {},
   "source": [
    "## Implementing Packages\n",
    "\n",
    "The **\\_\\_init\\_\\_.py** file is what makes a package a module. \n",
    "\n",
    "Note: See reader package"
   ]
  },
  {
   "cell_type": "markdown",
   "metadata": {},
   "source": [
    "To open files in a Windows environment, if you want to take the system absolute PATH as is, use **raw strings**. Append the r\"string\""
   ]
  },
  {
   "cell_type": "code",
   "execution_count": 14,
   "metadata": {},
   "outputs": [
    {
     "name": "stdout",
     "output_type": "stream",
     "text": [
      "C:\\Users\\hugovalle1\\Desktop\\InterPython\\reader\\reader.py\n",
      "C:\\Users\\hugovalle1\\Desktop\\InterPython\\reader\\reader.py\n"
     ]
    }
   ],
   "source": [
    "i = \"C:\\\\Users\\\\hugovalle1\\\\Desktop\\\\InterPython\\\\reader\\\\reader.py\"\n",
    "print(i)\n",
    "# use raw strings\n",
    "ri = r\"C:\\Users\\hugovalle1\\Desktop\\InterPython\\reader\\reader.py\"\n",
    "print(ri)"
   ]
  },
  {
   "cell_type": "markdown",
   "metadata": {},
   "source": [
    "Create dummy files on the terminal to test:\n",
    "\n",
    "python .\\reader\\compressed\\bzipped.py test.bz2 compressed with bz2\n",
    "\n",
    "python .\\reader\\compressed\\gzipped.py test.gzip compressed with gzip"
   ]
  },
  {
   "cell_type": "markdown",
   "metadata": {},
   "source": [
    "## Absolute & Relative Imports\n",
    "\n",
    "Everything we have done so far, are **absolute imports**. \n",
    "\n",
    "**Relative imports** are only recommended if you are working on the same package\n",
    "\n",
    "* Use one dot . for present working directory\n",
    "* Use two dots .. for parent directory\n",
    "\n",
    "Pros:\n",
    "1. Can reduce typing in deeply nested package structures\n",
    "2. Promote certain forms of modifiability \n",
    "3. Can aid package renaming and refactoring \n",
    "4. General advice is to avoid them on most cases"
   ]
  },
  {
   "cell_type": "markdown",
   "metadata": {},
   "source": [
    "## Controling imports with dunder all"
   ]
  },
  {
   "cell_type": "markdown",
   "metadata": {},
   "source": [
    "If \\_\\_all\\_\\_ is not specified, than all the public names will be imported to the session"
   ]
  },
  {
   "cell_type": "markdown",
   "metadata": {},
   "source": [
    "## Namespace Packages\n",
    "Some special cases, you may want to spread your package across multiple directories which would be useful when you want to split large packages into multiple parts. \n",
    "\n",
    "Note: See **PEP 420**\n",
    "\n",
    "### How does Python find namespace packages?\n",
    "Python follows a relative easy algorithm to determine the namespaces. \n",
    "1. Python scans all entries in sys.path\n",
    "2. If a matching directory with dunder init is found, a normal package is loaded.\n",
    "3. If \"**foo.py**\" if found, then it is loaded\n",
    "4. Otherwise, all matching directories in sys.path are considered part of the namespace package. "
   ]
  },
  {
   "cell_type": "markdown",
   "metadata": {},
   "source": [
    "## Executable directories\n",
    "Directoreis containing an entry point for Python execution\n",
    "\n",
    "Packages are usually developed because there is a program you want to use. "
   ]
  },
  {
   "cell_type": "markdown",
   "metadata": {},
   "source": [
    "## Recommended Project Layout\n",
    "\n",
    "* project_name\n",
    "    * \\_\\_main\\_\\_.py\n",
    "        * project_name\n",
    "            * \\_\\_init\\_\\_.py\n",
    "            * more_source.py\n",
    "            * subpackage\n",
    "                * \\_\\_init\\_\\_.py\n",
    "                * more_source.py\n",
    "            * test\n",
    "                * \\_\\_init\\_\\_.py\n",
    "                * test_code.py\n",
    "    * setup.py \n",
    "    \n",
    "    \n",
    "Modules:\n",
    "* Modules can be executed by passing them to Python with the **-m** argument. \n",
    "* \\_\\_all\\_\\_ attribute of a module is a list of strings specifying the names of the export when **from module** import * is used. "
   ]
  },
  {
   "cell_type": "markdown",
   "metadata": {},
   "source": [
    "# Advanced Functions\n",
    "The first parameter for an instance method is **self**\n",
    "\n",
    "Function arguments come in two flavors:\n",
    "* positional\n",
    "* keyword\n",
    "\n",
    "A particular argument may be passed as a positional argument in one call, but it is a keyword argument in another. \n",
    "\n",
    "Python functions are **first class** objects. \n",
    "\n",
    "The **def** keyword is responsible for binding a function object, which contains a function definition to a function name. "
   ]
  },
  {
   "cell_type": "code",
   "execution_count": 15,
   "metadata": {},
   "outputs": [
    {
     "name": "stdout",
     "output_type": "stream",
     "text": [
      "Function Body\n"
     ]
    },
    {
     "data": {
      "text/plain": [
       "8.0"
      ]
     },
     "execution_count": 15,
     "metadata": {},
     "output_type": "execute_result"
    }
   ],
   "source": [
    "# Two required arguments\n",
    "# One optional argument\n",
    "def function_name(arg1, arg2, arg3=1.0):\n",
    "    \"\"\"Function docstrings\"\"\"\n",
    "    print(\"Function Body\")\n",
    "    return (arg1 + arg2)/arg3\n",
    "\n",
    "# Call it\n",
    "function_name(3, 5)"
   ]
  },
  {
   "cell_type": "code",
   "execution_count": 16,
   "metadata": {},
   "outputs": [
    {
     "name": "stdout",
     "output_type": "stream",
     "text": [
      "Function Body\n"
     ]
    },
    {
     "data": {
      "text/plain": [
       "0.20588235294117646"
      ]
     },
     "execution_count": 16,
     "metadata": {},
     "output_type": "execute_result"
    }
   ],
   "source": [
    "function_name(3, arg2=4, arg3=34)"
   ]
  },
  {
   "cell_type": "code",
   "execution_count": 17,
   "metadata": {},
   "outputs": [
    {
     "name": "stdout",
     "output_type": "stream",
     "text": [
      "Function Body\n"
     ]
    },
    {
     "data": {
      "text/plain": [
       "4.8"
      ]
     },
     "execution_count": 17,
     "metadata": {},
     "output_type": "execute_result"
    }
   ],
   "source": [
    "function_name(arg3=2.5, arg1=3, arg2=9)"
   ]
  },
  {
   "cell_type": "code",
   "execution_count": 18,
   "metadata": {},
   "outputs": [
    {
     "name": "stdout",
     "output_type": "stream",
     "text": [
      "<function resolve at 0x000001F12AC39510>\n"
     ]
    }
   ],
   "source": [
    "# Another example\n",
    "import socket\n",
    "\n",
    "def resolve(host):\n",
    "    return socket.gethostbyname(host)\n",
    "\n",
    "print(resolve)"
   ]
  },
  {
   "cell_type": "code",
   "execution_count": 19,
   "metadata": {},
   "outputs": [
    {
     "data": {
      "text/plain": [
       "'137.190.8.10'"
      ]
     },
     "execution_count": 19,
     "metadata": {},
     "output_type": "execute_result"
    }
   ],
   "source": [
    "resolve('weber.edu')"
   ]
  },
  {
   "cell_type": "code",
   "execution_count": 20,
   "metadata": {},
   "outputs": [
    {
     "data": {
      "text/plain": [
       "'216.58.216.46'"
      ]
     },
     "execution_count": 20,
     "metadata": {},
     "output_type": "execute_result"
    }
   ],
   "source": [
    "resolve('google.com')"
   ]
  },
  {
   "cell_type": "markdown",
   "metadata": {},
   "source": [
    "Function objects are callable objects in so far as we can call them. "
   ]
  },
  {
   "cell_type": "markdown",
   "metadata": {},
   "source": [
    "## Callable Instances\n",
    "Use the \\_\\_call\\_\\_() special method. It allows objects of our own design to be callable. "
   ]
  },
  {
   "cell_type": "code",
   "execution_count": 26,
   "metadata": {
    "collapsed": true
   },
   "outputs": [],
   "source": [
    "import socket\n",
    "\n",
    "class Resolver:\n",
    "    def __init__(self):\n",
    "        self._cache = {}\n",
    "        \n",
    "    def __call__(self, host):\n",
    "        if host not in self._cache:\n",
    "            self._cache[host] = socket.gethostbyname(host)\n",
    "        return self._cache\n",
    "    \n",
    "    def clear(self):\n",
    "        self._cache.clear()\n",
    "        \n",
    "    def has_host(self, host):\n",
    "        return host in self._cache"
   ]
  },
  {
   "cell_type": "code",
   "execution_count": 22,
   "metadata": {},
   "outputs": [
    {
     "data": {
      "text/plain": [
       "{'weber.edu': '137.190.8.10'}"
      ]
     },
     "execution_count": 22,
     "metadata": {},
     "output_type": "execute_result"
    }
   ],
   "source": [
    "r = Resolver()\n",
    "r(\"weber.edu\")"
   ]
  },
  {
   "cell_type": "code",
   "execution_count": 23,
   "metadata": {},
   "outputs": [
    {
     "data": {
      "text/plain": [
       "{'weber.edu': '137.190.8.10'}"
      ]
     },
     "execution_count": 23,
     "metadata": {},
     "output_type": "execute_result"
    }
   ],
   "source": [
    "r._cache"
   ]
  },
  {
   "cell_type": "code",
   "execution_count": 25,
   "metadata": {},
   "outputs": [
    {
     "name": "stdout",
     "output_type": "stream",
     "text": [
      "{'weber.edu': '137.190.8.10', 'google.com': '216.58.216.14'}\n",
      "{'weber.edu': '137.190.8.10', 'google.com': '216.58.216.14'}\n"
     ]
    }
   ],
   "source": [
    "print(r(\"google.com\"))\n",
    "print(r._cache)"
   ]
  },
  {
   "cell_type": "code",
   "execution_count": 27,
   "metadata": {},
   "outputs": [
    {
     "data": {
      "text/plain": [
       "{'google.com': '216.58.216.46'}"
      ]
     },
     "execution_count": 27,
     "metadata": {},
     "output_type": "execute_result"
    }
   ],
   "source": [
    "resolve = Resolver()\n",
    "resolve(\"google.com\")"
   ]
  },
  {
   "cell_type": "code",
   "execution_count": 28,
   "metadata": {},
   "outputs": [
    {
     "data": {
      "text/plain": [
       "True"
      ]
     },
     "execution_count": 28,
     "metadata": {},
     "output_type": "execute_result"
    }
   ],
   "source": [
    "resolve.has_host(\"google.com\")"
   ]
  },
  {
   "cell_type": "code",
   "execution_count": 29,
   "metadata": {
    "collapsed": true
   },
   "outputs": [],
   "source": [
    "# clear it\n",
    "resolve.clear()"
   ]
  },
  {
   "cell_type": "code",
   "execution_count": 30,
   "metadata": {},
   "outputs": [
    {
     "data": {
      "text/plain": [
       "False"
      ]
     },
     "execution_count": 30,
     "metadata": {},
     "output_type": "execute_result"
    }
   ],
   "source": [
    "# test again\n",
    "resolve.has_host(\"google.com\")"
   ]
  },
  {
   "cell_type": "markdown",
   "metadata": {},
   "source": [
    "## Classes are callable\n",
    "\n",
    "See: callable.py"
   ]
  },
  {
   "cell_type": "markdown",
   "metadata": {},
   "source": [
    "## Lambda\n",
    "\n",
    "Named after Alonzo Church  who develop lambda calculus. \n",
    "\n",
    "See: callable.py\n",
    "\n",
    "Lambda is itself an expression which results in a callable object. \n",
    "\n",
    "use the keyword **lambda** to define a lambda function"
   ]
  },
  {
   "cell_type": "code",
   "execution_count": 31,
   "metadata": {},
   "outputs": [
    {
     "name": "stdout",
     "output_type": "stream",
     "text": [
      "Help on built-in function sorted in module builtins:\n",
      "\n",
      "sorted(iterable, /, *, key=None, reverse=False)\n",
      "    Return a new list containing all items from the iterable in ascending order.\n",
      "    \n",
      "    A custom key function can be supplied to customize the sort order, and the\n",
      "    reverse flag can be set to request the result in descending order.\n",
      "\n"
     ]
    }
   ],
   "source": [
    "# To sort information, key optional value\n",
    "help(sorted)"
   ]
  },
  {
   "cell_type": "code",
   "execution_count": null,
   "metadata": {
    "collapsed": true
   },
   "outputs": [],
   "source": [
    "def test_sequence_class():\n",
    "    seq = sequence_class(immutable=True)"
   ]
  }
 ],
 "metadata": {
  "kernelspec": {
   "display_name": "Python 3",
   "language": "python",
   "name": "python3"
  },
  "language_info": {
   "codemirror_mode": {
    "name": "ipython",
    "version": 3
   },
   "file_extension": ".py",
   "mimetype": "text/x-python",
   "name": "python",
   "nbconvert_exporter": "python",
   "pygments_lexer": "ipython3",
   "version": "3.6.3"
  }
 },
 "nbformat": 4,
 "nbformat_minor": 2
}
