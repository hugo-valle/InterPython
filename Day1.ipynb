{
 "cells": [
  {
   "cell_type": "code",
   "execution_count": 3,
   "metadata": {},
   "outputs": [
    {
     "name": "stdout",
     "output_type": "stream",
     "text": [
      "Hello Jupyter!\n"
     ]
    }
   ],
   "source": [
    "print(\"Hello Jupyter!\")"
   ]
  },
  {
   "cell_type": "markdown",
   "metadata": {},
   "source": [
    "# Jupyter Notebook Shortcuts\n",
    "\n",
    "* ESC - to exit input mode (blue bar)\n",
    "* ENTER- to switch to input mode (green bar)\n",
    "* y - python cell\n",
    "* m - markdown cell\n",
    "* Shift+Enger - Execute cell below, and insert new cell\n",
    "* Ctrl+Enter - Execute cell below"
   ]
  },
  {
   "cell_type": "markdown",
   "metadata": {},
   "source": [
    "# Intermediate Python\n",
    "\n",
    "## Prerequisites: \n",
    "* Access the REPL \n",
    "* Define Functions, pass information to parameters\n",
    "* Working with single modules\n",
    "* Built-In Types: int, float, str, list, dict, and set\n",
    "* Basics Python Object Model works for defined classes\n",
    "* Basics of Rasinng and Handling Errors: try, except, finally\n",
    "* Basics of **iterables** and **iterators**: for, while loops, next, iter\n",
    "* Reading and Writing text and binary files: open, close, **with**\n",
    "* Special terminology: \\_\\_method\\_\\_ \"dunder\""
   ]
  },
  {
   "cell_type": "markdown",
   "metadata": {},
   "source": [
    "# Organizing Larger Programs\n",
    "### Packages\n",
    "The module is the basic  tool to organize your code in Python. After you impor it, it is represented as a **class module**.\n",
    "\n",
    "A **package** in Python is just a special type of module. "
   ]
  },
  {
   "cell_type": "code",
   "execution_count": 4,
   "metadata": {
    "collapsed": true
   },
   "outputs": [],
   "source": [
    "# Examples\n",
    "import urllib\n",
    "import urllib.request"
   ]
  },
  {
   "cell_type": "code",
   "execution_count": 6,
   "metadata": {},
   "outputs": [
    {
     "name": "stdout",
     "output_type": "stream",
     "text": [
      "<class 'module'>\n",
      "<class 'module'>\n"
     ]
    }
   ],
   "source": [
    "print(type(urllib))\n",
    "print(type(urllib.request))"
   ]
  },
  {
   "cell_type": "code",
   "execution_count": 7,
   "metadata": {},
   "outputs": [
    {
     "name": "stdout",
     "output_type": "stream",
     "text": [
      "['C:\\\\ProgramData\\\\Anaconda3\\\\lib\\\\urllib']\n"
     ]
    }
   ],
   "source": [
    "# Where are you?\n",
    "print(urllib.__path__)"
   ]
  },
  {
   "cell_type": "code",
   "execution_count": 8,
   "metadata": {},
   "outputs": [
    {
     "ename": "AttributeError",
     "evalue": "module 'urllib.request' has no attribute '__path__'",
     "output_type": "error",
     "traceback": [
      "\u001b[1;31m---------------------------------------------------------------------------\u001b[0m",
      "\u001b[1;31mAttributeError\u001b[0m                            Traceback (most recent call last)",
      "\u001b[1;32m<ipython-input-8-a87099bc1d2d>\u001b[0m in \u001b[0;36m<module>\u001b[1;34m()\u001b[0m\n\u001b[1;32m----> 1\u001b[1;33m \u001b[0mprint\u001b[0m\u001b[1;33m(\u001b[0m\u001b[0murllib\u001b[0m\u001b[1;33m.\u001b[0m\u001b[0mrequest\u001b[0m\u001b[1;33m.\u001b[0m\u001b[0m__path__\u001b[0m\u001b[1;33m)\u001b[0m\u001b[1;33m\u001b[0m\u001b[0m\n\u001b[0m",
      "\u001b[1;31mAttributeError\u001b[0m: module 'urllib.request' has no attribute '__path__'"
     ]
    }
   ],
   "source": [
    "print(urllib.request.__path__)"
   ]
  },
  {
   "cell_type": "markdown",
   "metadata": {},
   "source": [
    "Packages are generally represented by directories while **modules** are single files. "
   ]
  },
  {
   "cell_type": "code",
   "execution_count": 9,
   "metadata": {},
   "outputs": [
    {
     "name": "stdout",
     "output_type": "stream",
     "text": [
      "['', 'C:\\\\ProgramData\\\\Anaconda3\\\\python36.zip', 'C:\\\\ProgramData\\\\Anaconda3\\\\DLLs', 'C:\\\\ProgramData\\\\Anaconda3\\\\lib', 'C:\\\\ProgramData\\\\Anaconda3', 'C:\\\\ProgramData\\\\Anaconda3\\\\lib\\\\site-packages', 'C:\\\\ProgramData\\\\Anaconda3\\\\lib\\\\site-packages\\\\Babel-2.5.0-py3.6.egg', 'C:\\\\ProgramData\\\\Anaconda3\\\\lib\\\\site-packages\\\\win32', 'C:\\\\ProgramData\\\\Anaconda3\\\\lib\\\\site-packages\\\\win32\\\\lib', 'C:\\\\ProgramData\\\\Anaconda3\\\\lib\\\\site-packages\\\\Pythonwin', 'C:\\\\ProgramData\\\\Anaconda3\\\\lib\\\\site-packages\\\\IPython\\\\extensions', 'C:\\\\Users\\\\hugovalle1\\\\.ipython']\n"
     ]
    }
   ],
   "source": [
    "# sys path\n",
    "import sys \n",
    "print(sys.path)"
   ]
  },
  {
   "cell_type": "code",
   "execution_count": 10,
   "metadata": {},
   "outputs": [
    {
     "data": {
      "text/plain": [
       "'C:\\\\ProgramData\\\\Anaconda3\\\\python36.zip'"
      ]
     },
     "execution_count": 10,
     "metadata": {},
     "output_type": "execute_result"
    }
   ],
   "source": [
    "sys.path[1]"
   ]
  },
  {
   "cell_type": "code",
   "execution_count": 11,
   "metadata": {},
   "outputs": [
    {
     "data": {
      "text/plain": [
       "'C:\\\\Users\\\\hugovalle1\\\\.ipython'"
      ]
     },
     "execution_count": 11,
     "metadata": {},
     "output_type": "execute_result"
    }
   ],
   "source": [
    "# Get last member\n",
    "sys.path[-1]"
   ]
  },
  {
   "cell_type": "markdown",
   "metadata": {},
   "source": [
    "Note:See not_serached package in pycharms"
   ]
  },
  {
   "cell_type": "markdown",
   "metadata": {},
   "source": [
    "#### PYTHONPATH \n",
    "If you need to alter your **PYTHONPATH** variable use these commands: \n",
    "\n",
    "Windows (power shell):\n",
    "* has a ; separated fields\n",
    "* Set the environment: **Set-Item Env:PYTHONPATH \"not_searched\"**\n",
    "\n",
    "Linux:\n",
    "* has a : separated fields\n",
    "* Use the **set** command to set the environment variable: **set PYTHONPATH=\"not_searched\"**"
   ]
  },
  {
   "cell_type": "markdown",
   "metadata": {},
   "source": [
    "## Implementing Packages\n",
    "\n",
    "The **\\_\\_init\\_\\_.py** file is what makes a package a module. \n",
    "\n",
    "Note: See reader package"
   ]
  },
  {
   "cell_type": "markdown",
   "metadata": {},
   "source": [
    "To open files in a Windows environment, if you want to take the system absolute PATH as is, use **raw strings**. Append the r\"string\""
   ]
  },
  {
   "cell_type": "code",
   "execution_count": 14,
   "metadata": {},
   "outputs": [
    {
     "name": "stdout",
     "output_type": "stream",
     "text": [
      "C:\\Users\\hugovalle1\\Desktop\\InterPython\\reader\\reader.py\n",
      "C:\\Users\\hugovalle1\\Desktop\\InterPython\\reader\\reader.py\n"
     ]
    }
   ],
   "source": [
    "i = \"C:\\\\Users\\\\hugovalle1\\\\Desktop\\\\InterPython\\\\reader\\\\reader.py\"\n",
    "print(i)\n",
    "# use raw strings\n",
    "ri = r\"C:\\Users\\hugovalle1\\Desktop\\InterPython\\reader\\reader.py\"\n",
    "print(ri)"
   ]
  },
  {
   "cell_type": "markdown",
   "metadata": {},
   "source": [
    "Create dummy files on the terminal to test:\n",
    "\n",
    "python .\\reader\\compressed\\bzipped.py test.bz2 compressed with bz2\n",
    "\n",
    "python .\\reader\\compressed\\gzipped.py test.gzip compressed with gzip"
   ]
  },
  {
   "cell_type": "markdown",
   "metadata": {},
   "source": [
    "## Absolute & Relative Imports\n",
    "\n",
    "Everything we have done so far, are **absolute imports**. \n",
    "\n",
    "**Relative imports** are only recommended if you are working on the same package\n",
    "\n",
    "* Use one dot . for present working directory\n",
    "* Use two dots .. for parent directory\n",
    "\n",
    "Pros:\n",
    "1. Can reduce typing in deeply nested package structures\n",
    "2. Promote certain forms of modifiability \n",
    "3. Can aid package renaming and refactoring \n",
    "4. General advice is to avoid them on most cases"
   ]
  },
  {
   "cell_type": "markdown",
   "metadata": {},
   "source": [
    "## Controling imports with dunder all"
   ]
  },
  {
   "cell_type": "markdown",
   "metadata": {},
   "source": [
    "If \\_\\_all\\_\\_ is not specified, than all the public names will be imported to the session"
   ]
  },
  {
   "cell_type": "markdown",
   "metadata": {},
   "source": [
    "## Namespace Packages\n",
    "Some special cases, you may want to spread your package across multiple directories which would be useful when you want to split large packages into multiple parts. \n",
    "\n",
    "Note: See **PEP 420**\n",
    "\n",
    "### How does Python find namespace packages?\n",
    "Python follows a relative easy algorithm to determine the namespaces. \n",
    "1. Python scans all entries in sys.path\n",
    "2. If a matching directory with dunder init is found, a normal package is loaded.\n",
    "3. If \"**foo.py**\" if found, then it is loaded\n",
    "4. Otherwise, all matching directories in sys.path are considered part of the namespace package. "
   ]
  },
  {
   "cell_type": "markdown",
   "metadata": {},
   "source": [
    "## Executable directories\n",
    "Directoreis containing an entry point for Python execution\n",
    "\n",
    "Packages are usually developed because there is a program you want to use. "
   ]
  },
  {
   "cell_type": "code",
   "execution_count": null,
   "metadata": {
    "collapsed": true
   },
   "outputs": [],
   "source": []
  }
 ],
 "metadata": {
  "kernelspec": {
   "display_name": "Python 3",
   "language": "python",
   "name": "python3"
  },
  "language_info": {
   "codemirror_mode": {
    "name": "ipython",
    "version": 3
   },
   "file_extension": ".py",
   "mimetype": "text/x-python",
   "name": "python",
   "nbconvert_exporter": "python",
   "pygments_lexer": "ipython3",
   "version": "3.6.3"
  }
 },
 "nbformat": 4,
 "nbformat_minor": 2
}
