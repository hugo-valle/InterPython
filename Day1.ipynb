{
 "cells": [
  {
   "cell_type": "code",
   "execution_count": 3,
   "metadata": {},
   "outputs": [
    {
     "name": "stdout",
     "output_type": "stream",
     "text": [
      "Hello Jupyter!\n"
     ]
    }
   ],
   "source": [
    "print(\"Hello Jupyter!\")"
   ]
  },
  {
   "cell_type": "markdown",
   "metadata": {},
   "source": [
    "# Jupyter Notebook Shortcuts\n",
    "\n",
    "* ESC - to exit input mode (blue bar)\n",
    "* ENTER- to switch to input mode (green bar)\n",
    "* y - python cell\n",
    "* m - markdown cell\n",
    "* Shift+Enger - Execute cell below, and insert new cell\n",
    "* Ctrl+Enter - Execute cell below"
   ]
  },
  {
   "cell_type": "markdown",
   "metadata": {},
   "source": [
    "# Intermediate Python\n",
    "\n",
    "## Prerequisites: \n",
    "* Access the REPL \n",
    "* Define Functions, pass information to parameters\n",
    "* Working with single modules\n",
    "* Built-In Types: int, float, str, list, dict, and set\n",
    "* Basics Python Object Model works for defined classes\n",
    "* Basics of Rasinng and Handling Errors: try, except, finally\n",
    "* Basics of **iterables** and **iterators**: for, while loops, next, iter\n",
    "* Reading and Writing text and binary files: open, close, **with**\n",
    "* Special terminology: \\_\\_method\\_\\_ \"dunder\""
   ]
  },
  {
   "cell_type": "code",
   "execution_count": null,
   "metadata": {
    "collapsed": true
   },
   "outputs": [],
   "source": []
  }
 ],
 "metadata": {
  "kernelspec": {
   "display_name": "Python 3",
   "language": "python",
   "name": "python3"
  },
  "language_info": {
   "codemirror_mode": {
    "name": "ipython",
    "version": 3
   },
   "file_extension": ".py",
   "mimetype": "text/x-python",
   "name": "python",
   "nbconvert_exporter": "python",
   "pygments_lexer": "ipython3",
   "version": "3.6.3"
  }
 },
 "nbformat": 4,
 "nbformat_minor": 2
}
